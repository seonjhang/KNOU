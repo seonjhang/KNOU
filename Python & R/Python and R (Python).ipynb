{
 "cells": [
  {
   "cell_type": "markdown",
   "id": "124af42f",
   "metadata": {},
   "source": [
    "## 1. 교재 연습문제 3장"
   ]
  },
  {
   "cell_type": "markdown",
   "id": "f1cfdf47",
   "metadata": {},
   "source": [
    "### 2번."
   ]
  },
  {
   "cell_type": "code",
   "execution_count": 1,
   "id": "c6c4bb7a",
   "metadata": {},
   "outputs": [],
   "source": [
    "#리스트의 정의\n",
    "x1 = ['kim', 'lee', 'park']\n",
    "x2 = [170, 160, 180]\n",
    "x3 = [60, 55, 75]"
   ]
  },
  {
   "cell_type": "code",
   "execution_count": 2,
   "id": "16395cdf",
   "metadata": {},
   "outputs": [],
   "source": [
    "#딕셔너리 생성\n",
    "data_dict = {'name': x1, 'height': x2, 'weight': x3}"
   ]
  },
  {
   "cell_type": "code",
   "execution_count": 3,
   "id": "1b9717bc",
   "metadata": {},
   "outputs": [
    {
     "name": "stdout",
     "output_type": "stream",
     "text": [
      "{'name': ['kim', 'lee', 'park'], 'height': [170, 160, 180], 'weight': [60, 55, 75]}\n"
     ]
    }
   ],
   "source": [
    "#결과 출력\n",
    "print(data_dict)"
   ]
  },
  {
   "cell_type": "code",
   "execution_count": 4,
   "id": "8dc48a84",
   "metadata": {},
   "outputs": [
    {
     "name": "stdout",
     "output_type": "stream",
     "text": [
      "['kim', 'lee', 'park']\n"
     ]
    }
   ],
   "source": [
    "print(data_dict['name'])"
   ]
  },
  {
   "cell_type": "markdown",
   "id": "0012f909",
   "metadata": {},
   "source": [
    "### 5번."
   ]
  },
  {
   "cell_type": "code",
   "execution_count": 5,
   "id": "aa1675f9",
   "metadata": {},
   "outputs": [],
   "source": [
    "import numpy as np"
   ]
  },
  {
   "cell_type": "code",
   "execution_count": 6,
   "id": "4552a5e3",
   "metadata": {},
   "outputs": [
    {
     "name": "stdout",
     "output_type": "stream",
     "text": [
      "[[ 1  2  3  4  5  6]\n",
      " [ 7  8  9 10 11 12]]\n"
     ]
    }
   ],
   "source": [
    "#기존 행렬 생성\n",
    "xm = np.array([[1, 2, 3, 4, 5, 6,],\n",
    "             [7, 8, 9, 10, 11, 12]])\n",
    "print(xm)"
   ]
  },
  {
   "cell_type": "code",
   "execution_count": 7,
   "id": "2f32fa78",
   "metadata": {},
   "outputs": [
    {
     "name": "stdout",
     "output_type": "stream",
     "text": [
      "[10 20]\n"
     ]
    }
   ],
   "source": [
    "#삽입할 열 데이터\n",
    "new_col = np.array([10, 20])\n",
    "print(new_col)"
   ]
  },
  {
   "cell_type": "code",
   "execution_count": 8,
   "id": "8b2345e9",
   "metadata": {},
   "outputs": [],
   "source": [
    "#새로운 열 삽입\n",
    "xm1 = np.insert(xm, 2, new_col, axis=1)"
   ]
  },
  {
   "cell_type": "code",
   "execution_count": 9,
   "id": "469ac9b6",
   "metadata": {},
   "outputs": [
    {
     "name": "stdout",
     "output_type": "stream",
     "text": [
      "[[ 1  2 10  3  4  5  6]\n",
      " [ 7  8 20  9 10 11 12]]\n"
     ]
    }
   ],
   "source": [
    "#결과 출력\n",
    "print(xm1)"
   ]
  },
  {
   "cell_type": "markdown",
   "id": "2edbc328",
   "metadata": {},
   "source": [
    "## 2. 교재 연습문제 4장"
   ]
  },
  {
   "cell_type": "markdown",
   "id": "998cb190",
   "metadata": {},
   "source": [
    "### 5번."
   ]
  },
  {
   "cell_type": "code",
   "execution_count": 10,
   "id": "167e3b97",
   "metadata": {},
   "outputs": [
    {
     "name": "stdout",
     "output_type": "stream",
     "text": [
      "1\n",
      "2\n",
      "3\n",
      "5\n"
     ]
    }
   ],
   "source": [
    "#1부터 5 사이의 자연수 값을 순서대로 입력하되 4일 경우 건너뛰는 프로그램\n",
    "i = 0\n",
    "while i < 5:\n",
    "    i = i + 1\n",
    "    if i == 4: continue\n",
    "    print (i)"
   ]
  },
  {
   "cell_type": "code",
   "execution_count": 11,
   "id": "67325946",
   "metadata": {},
   "outputs": [
    {
     "name": "stdout",
     "output_type": "stream",
     "text": [
      "1\n",
      "2\n",
      "3\n",
      "4\n"
     ]
    }
   ],
   "source": [
    "#4 이후에는 인쇄하지 않는 프로그램\n",
    "i = 0\n",
    "while i < 5:\n",
    "    i = i + 1\n",
    "    print(i)\n",
    "    if i == 4:\n",
    "        break"
   ]
  },
  {
   "cell_type": "markdown",
   "id": "0166e179",
   "metadata": {},
   "source": [
    "### 7번."
   ]
  },
  {
   "cell_type": "code",
   "execution_count": 12,
   "id": "4f5a0263",
   "metadata": {},
   "outputs": [
    {
     "name": "stdout",
     "output_type": "stream",
     "text": [
      "주당 근무시간을 입력하세요: 55\n",
      "주당 근무시간: 55.0시간, 임금: 62.5만원\n"
     ]
    }
   ],
   "source": [
    "#주당 근무시간이 40시간 이내면 시간당 임금이 1만 원이고 40시간이 초과되는 부분에 대해서는 1.5배를 지급\n",
    "#주당 근무시간을 입력받으면 출력으로 임금이 계산되는 함수 mywage\n",
    "#단위: 만 원\n",
    "\n",
    "def mywage(hour):\n",
    "    if hour <= 40:\n",
    "        wage = hour * 1\n",
    "    else:\n",
    "        wage = 40 + (hour - 40) * 1.5\n",
    "        \n",
    "    return wage   \n",
    "\n",
    "hour = float(input(\"주당 근무시간을 입력하세요: \"))\n",
    "\n",
    "result = mywage(hour)\n",
    "print(f\"주당 근무시간: {hour}시간, 임금: {result}만원\")"
   ]
  },
  {
   "cell_type": "code",
   "execution_count": 13,
   "id": "720967f4",
   "metadata": {},
   "outputs": [
    {
     "name": "stdout",
     "output_type": "stream",
     "text": [
      "주당 근무시간을 입력하세요: 55\n",
      "주당 근무시간: 55.0시간, 임금: 62.5만원\n"
     ]
    }
   ],
   "source": [
    "#주당 근무시간이 40시간 이내면 시간당 임금이 1만 원이고 40시간이 초과되는 부분에 대해서는 1.5배를 지급\n",
    "#주당 근무시간을 입력받으면 출력으로 임금이 계산되는 함수 mywage\n",
    "#단위: 만 원\n",
    "\n",
    "def mywage(hours_worked):\n",
    "    standard_hours = 40\n",
    "    hourly_rate = 1  # 1만 원\n",
    "    overtime_rate = 1.5\n",
    "\n",
    "    if hours_worked <= standard_hours:\n",
    "        wage = hours_worked * hourly_rate\n",
    "    else:\n",
    "        regular_wage = standard_hours * hourly_rate\n",
    "        overtime_hours = hours_worked - standard_hours\n",
    "        overtime_wage = overtime_hours * (hourly_rate * overtime_rate)\n",
    "        wage = regular_wage + overtime_wage\n",
    "\n",
    "    return wage\n",
    "\n",
    "# 주당 근무시간 입력\n",
    "hours = float(input(\"주당 근무시간을 입력하세요: \"))\n",
    "\n",
    "# 임금 계산 및 출력\n",
    "result = mywage(hours)\n",
    "print(f\"주당 근무시간: {hours}시간, 임금: {result}만원\")"
   ]
  },
  {
   "cell_type": "markdown",
   "id": "eadc0e39",
   "metadata": {},
   "source": [
    "## 2. 교재 연습문제 8장"
   ]
  },
  {
   "cell_type": "markdown",
   "id": "7357d487",
   "metadata": {},
   "source": [
    "### 3번."
   ]
  },
  {
   "cell_type": "markdown",
   "id": "859e20de",
   "metadata": {},
   "source": [
    "##### (1) 변수 diabetes의 그룹별 빈도수 및 비율을 구하고, 막대그림 및 원그림으로 그리시오."
   ]
  },
  {
   "cell_type": "code",
   "execution_count": 14,
   "id": "2046d83c",
   "metadata": {},
   "outputs": [],
   "source": [
    "#diabetes 자료 불러오기\n",
    "import numpy as np\n",
    "import pandas as pd\n",
    "import matplotlib.pyplot as plt\n",
    "import seaborn as sns\n",
    "\n",
    "data = pd.read_csv('diabetes (1).csv')"
   ]
  },
  {
   "cell_type": "code",
   "execution_count": 15,
   "id": "d7bf186c",
   "metadata": {},
   "outputs": [
    {
     "data": {
      "text/html": [
       "<div>\n",
       "<style scoped>\n",
       "    .dataframe tbody tr th:only-of-type {\n",
       "        vertical-align: middle;\n",
       "    }\n",
       "\n",
       "    .dataframe tbody tr th {\n",
       "        vertical-align: top;\n",
       "    }\n",
       "\n",
       "    .dataframe thead th {\n",
       "        text-align: right;\n",
       "    }\n",
       "</style>\n",
       "<table border=\"1\" class=\"dataframe\">\n",
       "  <thead>\n",
       "    <tr style=\"text-align: right;\">\n",
       "      <th></th>\n",
       "      <th>id</th>\n",
       "      <th>pregnant</th>\n",
       "      <th>glucose</th>\n",
       "      <th>pressure</th>\n",
       "      <th>triceps</th>\n",
       "      <th>insulin</th>\n",
       "      <th>mass</th>\n",
       "      <th>pedigree</th>\n",
       "      <th>age</th>\n",
       "      <th>diabetes</th>\n",
       "    </tr>\n",
       "  </thead>\n",
       "  <tbody>\n",
       "    <tr>\n",
       "      <th>0</th>\n",
       "      <td>1</td>\n",
       "      <td>6</td>\n",
       "      <td>148</td>\n",
       "      <td>72</td>\n",
       "      <td>35</td>\n",
       "      <td>0</td>\n",
       "      <td>33.6</td>\n",
       "      <td>0.627</td>\n",
       "      <td>50</td>\n",
       "      <td>pos</td>\n",
       "    </tr>\n",
       "    <tr>\n",
       "      <th>1</th>\n",
       "      <td>2</td>\n",
       "      <td>1</td>\n",
       "      <td>85</td>\n",
       "      <td>66</td>\n",
       "      <td>29</td>\n",
       "      <td>0</td>\n",
       "      <td>26.6</td>\n",
       "      <td>0.351</td>\n",
       "      <td>31</td>\n",
       "      <td>neg</td>\n",
       "    </tr>\n",
       "    <tr>\n",
       "      <th>2</th>\n",
       "      <td>3</td>\n",
       "      <td>8</td>\n",
       "      <td>183</td>\n",
       "      <td>64</td>\n",
       "      <td>0</td>\n",
       "      <td>0</td>\n",
       "      <td>23.3</td>\n",
       "      <td>0.672</td>\n",
       "      <td>32</td>\n",
       "      <td>pos</td>\n",
       "    </tr>\n",
       "    <tr>\n",
       "      <th>3</th>\n",
       "      <td>4</td>\n",
       "      <td>1</td>\n",
       "      <td>89</td>\n",
       "      <td>66</td>\n",
       "      <td>23</td>\n",
       "      <td>94</td>\n",
       "      <td>28.1</td>\n",
       "      <td>0.167</td>\n",
       "      <td>21</td>\n",
       "      <td>neg</td>\n",
       "    </tr>\n",
       "    <tr>\n",
       "      <th>4</th>\n",
       "      <td>5</td>\n",
       "      <td>0</td>\n",
       "      <td>137</td>\n",
       "      <td>40</td>\n",
       "      <td>35</td>\n",
       "      <td>168</td>\n",
       "      <td>43.1</td>\n",
       "      <td>2.288</td>\n",
       "      <td>33</td>\n",
       "      <td>pos</td>\n",
       "    </tr>\n",
       "    <tr>\n",
       "      <th>5</th>\n",
       "      <td>6</td>\n",
       "      <td>5</td>\n",
       "      <td>116</td>\n",
       "      <td>74</td>\n",
       "      <td>0</td>\n",
       "      <td>0</td>\n",
       "      <td>25.6</td>\n",
       "      <td>0.201</td>\n",
       "      <td>30</td>\n",
       "      <td>neg</td>\n",
       "    </tr>\n",
       "  </tbody>\n",
       "</table>\n",
       "</div>"
      ],
      "text/plain": [
       "   id  pregnant  glucose  pressure  triceps  insulin  mass  pedigree  age  \\\n",
       "0   1         6      148        72       35        0  33.6     0.627   50   \n",
       "1   2         1       85        66       29        0  26.6     0.351   31   \n",
       "2   3         8      183        64        0        0  23.3     0.672   32   \n",
       "3   4         1       89        66       23       94  28.1     0.167   21   \n",
       "4   5         0      137        40       35      168  43.1     2.288   33   \n",
       "5   6         5      116        74        0        0  25.6     0.201   30   \n",
       "\n",
       "  diabetes  \n",
       "0      pos  \n",
       "1      neg  \n",
       "2      pos  \n",
       "3      neg  \n",
       "4      pos  \n",
       "5      neg  "
      ]
     },
     "execution_count": 15,
     "metadata": {},
     "output_type": "execute_result"
    }
   ],
   "source": [
    "#파일이 잘 불러왔는지 확인\n",
    "data.head(6)"
   ]
  },
  {
   "cell_type": "markdown",
   "id": "5c35b0b9",
   "metadata": {},
   "source": [
    "변수 diabetes의 neg, pos에 따른 비도수는 각각 500, 268이며 비율로 이를 나타냈을 때는 각각 65%, 35%이다."
   ]
  },
  {
   "cell_type": "code",
   "execution_count": 16,
   "id": "ce1a65c2",
   "metadata": {},
   "outputs": [
    {
     "name": "stdout",
     "output_type": "stream",
     "text": [
      "col_0     count\n",
      "diabetes       \n",
      "neg         500\n",
      "pos         268\n"
     ]
    }
   ],
   "source": [
    "#변수 diabetes의 pos, neg 별 빈도수 / 빈도표 그리기\n",
    "data_table = pd.crosstab(index=data[\"diabetes\"], columns=\"count\")\n",
    "print(data_table)"
   ]
  },
  {
   "cell_type": "code",
   "execution_count": 17,
   "id": "6c4916b4",
   "metadata": {},
   "outputs": [
    {
     "name": "stdout",
     "output_type": "stream",
     "text": [
      "col_0  count\n",
      "neg      500\n",
      "pos      268\n"
     ]
    }
   ],
   "source": [
    "data_table.index = [\"neg\", \"pos\"]\n",
    "print(data_table)"
   ]
  },
  {
   "cell_type": "code",
   "execution_count": 18,
   "id": "a1e808b6",
   "metadata": {},
   "outputs": [
    {
     "data": {
      "text/html": [
       "<div>\n",
       "<style scoped>\n",
       "    .dataframe tbody tr th:only-of-type {\n",
       "        vertical-align: middle;\n",
       "    }\n",
       "\n",
       "    .dataframe tbody tr th {\n",
       "        vertical-align: top;\n",
       "    }\n",
       "\n",
       "    .dataframe thead th {\n",
       "        text-align: right;\n",
       "    }\n",
       "</style>\n",
       "<table border=\"1\" class=\"dataframe\">\n",
       "  <thead>\n",
       "    <tr style=\"text-align: right;\">\n",
       "      <th>col_0</th>\n",
       "      <th>count</th>\n",
       "    </tr>\n",
       "  </thead>\n",
       "  <tbody>\n",
       "    <tr>\n",
       "      <th>neg</th>\n",
       "      <td>500</td>\n",
       "    </tr>\n",
       "    <tr>\n",
       "      <th>pos</th>\n",
       "      <td>268</td>\n",
       "    </tr>\n",
       "  </tbody>\n",
       "</table>\n",
       "</div>"
      ],
      "text/plain": [
       "col_0  count\n",
       "neg      500\n",
       "pos      268"
      ]
     },
     "execution_count": 18,
     "metadata": {},
     "output_type": "execute_result"
    }
   ],
   "source": [
    "data_table.head()"
   ]
  },
  {
   "cell_type": "code",
   "execution_count": 19,
   "id": "b8092f81",
   "metadata": {},
   "outputs": [
    {
     "name": "stdout",
     "output_type": "stream",
     "text": [
      "빈도수:\n",
      "neg    500\n",
      "pos    268\n",
      "Name: count, dtype: int64\n",
      "\n",
      "비율:\n",
      "neg    0.651042\n",
      "pos    0.348958\n",
      "Name: count, dtype: float64\n"
     ]
    }
   ],
   "source": [
    "# 빈도수 및 비율 구하기\n",
    "count = data_table['count']\n",
    "total = count.sum()\n",
    "frequency = count / total\n",
    "\n",
    "print(\"빈도수:\")\n",
    "print(count)\n",
    "print(\"\\n비율:\")\n",
    "print(frequency)"
   ]
  },
  {
   "cell_type": "markdown",
   "id": "761ed382",
   "metadata": {},
   "source": [
    "변수 diabetes의 그룹별 막대그림 및 원그림"
   ]
  },
  {
   "cell_type": "markdown",
   "id": "b17ff679",
   "metadata": {},
   "source": [
    ": 변수 diabetes의 그룹별(neg, pos) 막대그림과 원그림을 나타내면 다음과 같다."
   ]
  },
  {
   "cell_type": "code",
   "execution_count": 20,
   "id": "4e32db57",
   "metadata": {},
   "outputs": [
    {
     "data": {
      "text/plain": [
       "<BarContainer object of 2 artists>"
      ]
     },
     "execution_count": 20,
     "metadata": {},
     "output_type": "execute_result"
    },
    {
     "data": {
      "image/png": "[encoded data removed]",
      "text/plain": [
       "<Figure size 432x288 with 1 Axes>"
      ]
     },
     "metadata": {
      "needs_background": "light"
     },
     "output_type": "display_data"
    }
   ],
   "source": [
    "#변수 diabetes 막대그래프\n",
    "plt.bar(data_table.index, data_table[\"count\"])"
   ]
  },
  {
   "cell_type": "code",
   "execution_count": 21,
   "id": "d5f9dcfa",
   "metadata": {},
   "outputs": [
    {
     "data": {
      "text/plain": [
       "([<matplotlib.patches.Wedge at 0x2514bd7ba60>,\n",
       "  <matplotlib.patches.Wedge at 0x2514bd891c0>],\n",
       " [Text(-0.9784676515931926, -0.502594324267299, 'neg'),\n",
       "  Text(0.9784676045369114, 0.5025944158780502, 'pos')])"
      ]
     },
     "execution_count": 21,
     "metadata": {},
     "output_type": "execute_result"
    },
    {
     "data": {
      "image/png": "[encoded data removed]",
      "text/plain": [
       "<Figure size 432x288 with 1 Axes>"
      ]
     },
     "metadata": {},
     "output_type": "display_data"
    }
   ],
   "source": [
    "#변수 diabetes 원그림\n",
    "plt.pie(data_table[\"count\"], labels=data_table.index, shadow=True, startangle=90)"
   ]
  },
  {
   "cell_type": "markdown",
   "id": "b702b32e",
   "metadata": {},
   "source": [
    "##### (2) 변수 diabetes의 각 그룹별로, 변수(glucose, pressure, triceps, insulin, mass, pedigree, age)의 최솟값, 최댓값, 중앙값, 평균, 제1사분위수, 제3사분위수를 구하시오. 또한 diabetes의 각 그룹별로 히스토그램 및 상자그림을 그리고 비교, 설명하시오."
   ]
  },
  {
   "cell_type": "markdown",
   "id": "f9f21f73",
   "metadata": {},
   "source": [
    "각 변수의 최솟값, 최댓값, 중앙값, 평균, 제1사분위수, 제3사분위와 같은 기본적인 내용을 알기 위해서는 describe()를 사용하며, 그 값들은 다음과 같다."
   ]
  },
  {
   "cell_type": "markdown",
   "id": "aa182644",
   "metadata": {},
   "source": [
    "각 변수(glucose, pressure 외 5개)별 히스토그램을 살펴보면, '0'의 값을 가진 경우가 꽤 존재하는데, 이는 결측치가 아닐까 조심스럽게 예상해본다. 정확한 분석을 위해서는 해당 결측치들을 제외하는 것을 고려해보아야 한다. 변수 별로 diabetes가 neg, pos 값에 따라 유의미하게 차이를 보이는 변수는 glucose이며, 그 외 변수는 neg와 pos의 분포가 상당 부분 겹치는 것으로 보아 diabetes와 높은 상관관계를 보이는 변수는 glucose라 할 수 있다."
   ]
  },
  {
   "cell_type": "markdown",
   "id": "30dce617",
   "metadata": {},
   "source": [
    "히스토그램과 유사하게 각 변수별 상자그림들을 살펴보면, 육안상으로 보았을 때 diabetes가 neg, pos에 따른 가장 크게 유의미한 차이를 보이는 변수는 glucose다."
   ]
  },
  {
   "cell_type": "code",
   "execution_count": 22,
   "id": "a5881af8",
   "metadata": {},
   "outputs": [
    {
     "data": {
      "text/html": [
       "<div>\n",
       "<style scoped>\n",
       "    .dataframe tbody tr th:only-of-type {\n",
       "        vertical-align: middle;\n",
       "    }\n",
       "\n",
       "    .dataframe tbody tr th {\n",
       "        vertical-align: top;\n",
       "    }\n",
       "\n",
       "    .dataframe thead th {\n",
       "        text-align: right;\n",
       "    }\n",
       "</style>\n",
       "<table border=\"1\" class=\"dataframe\">\n",
       "  <thead>\n",
       "    <tr style=\"text-align: right;\">\n",
       "      <th></th>\n",
       "      <th>count</th>\n",
       "      <th>mean</th>\n",
       "      <th>std</th>\n",
       "      <th>min</th>\n",
       "      <th>25%</th>\n",
       "      <th>50%</th>\n",
       "      <th>75%</th>\n",
       "      <th>max</th>\n",
       "    </tr>\n",
       "    <tr>\n",
       "      <th>diabetes</th>\n",
       "      <th></th>\n",
       "      <th></th>\n",
       "      <th></th>\n",
       "      <th></th>\n",
       "      <th></th>\n",
       "      <th></th>\n",
       "      <th></th>\n",
       "      <th></th>\n",
       "    </tr>\n",
       "  </thead>\n",
       "  <tbody>\n",
       "    <tr>\n",
       "      <th>neg</th>\n",
       "      <td>500.0</td>\n",
       "      <td>109.980000</td>\n",
       "      <td>26.141200</td>\n",
       "      <td>0.0</td>\n",
       "      <td>93.0</td>\n",
       "      <td>107.0</td>\n",
       "      <td>125.0</td>\n",
       "      <td>197.0</td>\n",
       "    </tr>\n",
       "    <tr>\n",
       "      <th>pos</th>\n",
       "      <td>268.0</td>\n",
       "      <td>141.257463</td>\n",
       "      <td>31.939622</td>\n",
       "      <td>0.0</td>\n",
       "      <td>119.0</td>\n",
       "      <td>140.0</td>\n",
       "      <td>167.0</td>\n",
       "      <td>199.0</td>\n",
       "    </tr>\n",
       "  </tbody>\n",
       "</table>\n",
       "</div>"
      ],
      "text/plain": [
       "          count        mean        std  min    25%    50%    75%    max\n",
       "diabetes                                                               \n",
       "neg       500.0  109.980000  26.141200  0.0   93.0  107.0  125.0  197.0\n",
       "pos       268.0  141.257463  31.939622  0.0  119.0  140.0  167.0  199.0"
      ]
     },
     "execution_count": 22,
     "metadata": {},
     "output_type": "execute_result"
    }
   ],
   "source": [
    "#glucose 변수의 최솟값, 최댓값, 중앙값, 평균, 제1사분위수, 제3사분위수\n",
    "stat_g = data.groupby(\"diabetes\")[\"glucose\"].describe()\n",
    "stat_g"
   ]
  },
  {
   "cell_type": "code",
   "execution_count": 23,
   "id": "192bd4a8",
   "metadata": {},
   "outputs": [
    {
     "data": {
      "text/plain": [
       "<seaborn.axisgrid.FacetGrid at 0x2514bd89f70>"
      ]
     },
     "execution_count": 23,
     "metadata": {},
     "output_type": "execute_result"
    },
    {
     "data": {
      "image/png": "[encoded data removed]",
      "text/plain": [
       "<Figure size 414.875x360 with 1 Axes>"
      ]
     },
     "metadata": {
      "needs_background": "light"
     },
     "output_type": "display_data"
    }
   ],
   "source": [
    "#glucose 변수 히스토그램\n",
    "sns.displot(data, x=\"glucose\", hue=\"diabetes\")"
   ]
  },
  {
   "cell_type": "code",
   "execution_count": 24,
   "id": "b7a4cad7",
   "metadata": {},
   "outputs": [
    {
     "data": {
      "text/plain": [
       "<AxesSubplot:xlabel='diabetes', ylabel='glucose'>"
      ]
     },
     "execution_count": 24,
     "metadata": {},
     "output_type": "execute_result"
    },
    {
     "data": {
      "image/png": "[encoded data removed]",
      "text/plain": [
       "<Figure size 432x288 with 1 Axes>"
      ]
     },
     "metadata": {
      "needs_background": "light"
     },
     "output_type": "display_data"
    }
   ],
   "source": [
    "#glucose 변수 상자그림\n",
    "sns.boxplot(x=\"diabetes\", y=\"glucose\", data=data)"
   ]
  },
  {
   "cell_type": "code",
   "execution_count": 25,
   "id": "e29430a9",
   "metadata": {},
   "outputs": [
    {
     "data": {
      "text/html": [
       "<div>\n",
       "<style scoped>\n",
       "    .dataframe tbody tr th:only-of-type {\n",
       "        vertical-align: middle;\n",
       "    }\n",
       "\n",
       "    .dataframe tbody tr th {\n",
       "        vertical-align: top;\n",
       "    }\n",
       "\n",
       "    .dataframe thead th {\n",
       "        text-align: right;\n",
       "    }\n",
       "</style>\n",
       "<table border=\"1\" class=\"dataframe\">\n",
       "  <thead>\n",
       "    <tr style=\"text-align: right;\">\n",
       "      <th></th>\n",
       "      <th>count</th>\n",
       "      <th>mean</th>\n",
       "      <th>std</th>\n",
       "      <th>min</th>\n",
       "      <th>25%</th>\n",
       "      <th>50%</th>\n",
       "      <th>75%</th>\n",
       "      <th>max</th>\n",
       "    </tr>\n",
       "    <tr>\n",
       "      <th>diabetes</th>\n",
       "      <th></th>\n",
       "      <th></th>\n",
       "      <th></th>\n",
       "      <th></th>\n",
       "      <th></th>\n",
       "      <th></th>\n",
       "      <th></th>\n",
       "      <th></th>\n",
       "    </tr>\n",
       "  </thead>\n",
       "  <tbody>\n",
       "    <tr>\n",
       "      <th>neg</th>\n",
       "      <td>500.0</td>\n",
       "      <td>68.184000</td>\n",
       "      <td>18.063075</td>\n",
       "      <td>0.0</td>\n",
       "      <td>62.0</td>\n",
       "      <td>70.0</td>\n",
       "      <td>78.0</td>\n",
       "      <td>122.0</td>\n",
       "    </tr>\n",
       "    <tr>\n",
       "      <th>pos</th>\n",
       "      <td>268.0</td>\n",
       "      <td>70.824627</td>\n",
       "      <td>21.491812</td>\n",
       "      <td>0.0</td>\n",
       "      <td>66.0</td>\n",
       "      <td>74.0</td>\n",
       "      <td>82.0</td>\n",
       "      <td>114.0</td>\n",
       "    </tr>\n",
       "  </tbody>\n",
       "</table>\n",
       "</div>"
      ],
      "text/plain": [
       "          count       mean        std  min   25%   50%   75%    max\n",
       "diabetes                                                           \n",
       "neg       500.0  68.184000  18.063075  0.0  62.0  70.0  78.0  122.0\n",
       "pos       268.0  70.824627  21.491812  0.0  66.0  74.0  82.0  114.0"
      ]
     },
     "execution_count": 25,
     "metadata": {},
     "output_type": "execute_result"
    }
   ],
   "source": [
    "#pressure 변수의 최솟값, 최댓값, 중앙값, 평균, 제1사분위수, 제3사분위수\n",
    "stat_p = data.groupby(\"diabetes\")[\"pressure\"].describe()\n",
    "stat_p"
   ]
  },
  {
   "cell_type": "code",
   "execution_count": 26,
   "id": "532b0546",
   "metadata": {},
   "outputs": [
    {
     "data": {
      "text/plain": [
       "<seaborn.axisgrid.FacetGrid at 0x2514be58460>"
      ]
     },
     "execution_count": 26,
     "metadata": {},
     "output_type": "execute_result"
    },
    {
     "data": {
      "image/png": "[encoded data removed]",
      "text/plain": [
       "<Figure size 414.875x360 with 1 Axes>"
      ]
     },
     "metadata": {
      "needs_background": "light"
     },
     "output_type": "display_data"
    }
   ],
   "source": [
    "#pressure 변수 히스토그램\n",
    "sns.displot(data, x=\"pressure\", hue=\"diabetes\")"
   ]
  },
  {
   "cell_type": "code",
   "execution_count": 27,
   "id": "2447aadb",
   "metadata": {},
   "outputs": [
    {
     "data": {
      "text/plain": [
       "<AxesSubplot:xlabel='diabetes', ylabel='pressure'>"
      ]
     },
     "execution_count": 27,
     "metadata": {},
     "output_type": "execute_result"
    },
    {
     "data": {
      "image/png": "[encoded data removed]",
      "text/plain": [
       "<Figure size 432x288 with 1 Axes>"
      ]
     },
     "metadata": {
      "needs_background": "light"
     },
     "output_type": "display_data"
    }
   ],
   "source": [
    "#pressure 변수 상자그림\n",
    "sns.boxplot(x=\"diabetes\", y=\"pressure\", data=data)"
   ]
  },
  {
   "cell_type": "code",
   "execution_count": 28,
   "id": "4e7c2951",
   "metadata": {},
   "outputs": [
    {
     "data": {
      "text/html": [
       "<div>\n",
       "<style scoped>\n",
       "    .dataframe tbody tr th:only-of-type {\n",
       "        vertical-align: middle;\n",
       "    }\n",
       "\n",
       "    .dataframe tbody tr th {\n",
       "        vertical-align: top;\n",
       "    }\n",
       "\n",
       "    .dataframe thead th {\n",
       "        text-align: right;\n",
       "    }\n",
       "</style>\n",
       "<table border=\"1\" class=\"dataframe\">\n",
       "  <thead>\n",
       "    <tr style=\"text-align: right;\">\n",
       "      <th></th>\n",
       "      <th>count</th>\n",
       "      <th>mean</th>\n",
       "      <th>std</th>\n",
       "      <th>min</th>\n",
       "      <th>25%</th>\n",
       "      <th>50%</th>\n",
       "      <th>75%</th>\n",
       "      <th>max</th>\n",
       "    </tr>\n",
       "    <tr>\n",
       "      <th>diabetes</th>\n",
       "      <th></th>\n",
       "      <th></th>\n",
       "      <th></th>\n",
       "      <th></th>\n",
       "      <th></th>\n",
       "      <th></th>\n",
       "      <th></th>\n",
       "      <th></th>\n",
       "    </tr>\n",
       "  </thead>\n",
       "  <tbody>\n",
       "    <tr>\n",
       "      <th>neg</th>\n",
       "      <td>500.0</td>\n",
       "      <td>19.664000</td>\n",
       "      <td>14.889947</td>\n",
       "      <td>0.0</td>\n",
       "      <td>0.0</td>\n",
       "      <td>21.0</td>\n",
       "      <td>31.0</td>\n",
       "      <td>60.0</td>\n",
       "    </tr>\n",
       "    <tr>\n",
       "      <th>pos</th>\n",
       "      <td>268.0</td>\n",
       "      <td>22.164179</td>\n",
       "      <td>17.679711</td>\n",
       "      <td>0.0</td>\n",
       "      <td>0.0</td>\n",
       "      <td>27.0</td>\n",
       "      <td>36.0</td>\n",
       "      <td>99.0</td>\n",
       "    </tr>\n",
       "  </tbody>\n",
       "</table>\n",
       "</div>"
      ],
      "text/plain": [
       "          count       mean        std  min  25%   50%   75%   max\n",
       "diabetes                                                         \n",
       "neg       500.0  19.664000  14.889947  0.0  0.0  21.0  31.0  60.0\n",
       "pos       268.0  22.164179  17.679711  0.0  0.0  27.0  36.0  99.0"
      ]
     },
     "execution_count": 28,
     "metadata": {},
     "output_type": "execute_result"
    }
   ],
   "source": [
    "#triceps 변수의 최솟값, 최댓값, 중앙값, 평균, 제1사분위수, 제3사분위수\n",
    "stat_t = data.groupby(\"diabetes\")[\"triceps\"].describe()\n",
    "stat_t"
   ]
  },
  {
   "cell_type": "code",
   "execution_count": 29,
   "id": "fe6a77ab",
   "metadata": {},
   "outputs": [
    {
     "data": {
      "text/plain": [
       "<seaborn.axisgrid.FacetGrid at 0x2514bf329d0>"
      ]
     },
     "execution_count": 29,
     "metadata": {},
     "output_type": "execute_result"
    },
    {
     "data": {
      "image/png": "[encoded data removed]",
      "text/plain": [
       "<Figure size 414.875x360 with 1 Axes>"
      ]
     },
     "metadata": {
      "needs_background": "light"
     },
     "output_type": "display_data"
    }
   ],
   "source": [
    "#triceps 변수 히스토그램\n",
    "sns.displot(data, x=\"triceps\", hue=\"diabetes\")"
   ]
  },
  {
   "cell_type": "code",
   "execution_count": 30,
   "id": "cd514325",
   "metadata": {},
   "outputs": [
    {
     "data": {
      "text/plain": [
       "<AxesSubplot:xlabel='diabetes', ylabel='triceps'>"
      ]
     },
     "execution_count": 30,
     "metadata": {},
     "output_type": "execute_result"
    },
    {
     "data": {
      "image/png": "[encoded data removed]",
      "text/plain": [
       "<Figure size 432x288 with 1 Axes>"
      ]
     },
     "metadata": {
      "needs_background": "light"
     },
     "output_type": "display_data"
    }
   ],
   "source": [
    "#triceps 변수 상자그림\n",
    "sns.boxplot(x=\"diabetes\", y=\"triceps\", data=data)"
   ]
  },
  {
   "cell_type": "code",
   "execution_count": 31,
   "id": "3e75ff9e",
   "metadata": {},
   "outputs": [
    {
     "data": {
      "text/html": [
       "<div>\n",
       "<style scoped>\n",
       "    .dataframe tbody tr th:only-of-type {\n",
       "        vertical-align: middle;\n",
       "    }\n",
       "\n",
       "    .dataframe tbody tr th {\n",
       "        vertical-align: top;\n",
       "    }\n",
       "\n",
       "    .dataframe thead th {\n",
       "        text-align: right;\n",
       "    }\n",
       "</style>\n",
       "<table border=\"1\" class=\"dataframe\">\n",
       "  <thead>\n",
       "    <tr style=\"text-align: right;\">\n",
       "      <th></th>\n",
       "      <th>count</th>\n",
       "      <th>mean</th>\n",
       "      <th>std</th>\n",
       "      <th>min</th>\n",
       "      <th>25%</th>\n",
       "      <th>50%</th>\n",
       "      <th>75%</th>\n",
       "      <th>max</th>\n",
       "    </tr>\n",
       "    <tr>\n",
       "      <th>diabetes</th>\n",
       "      <th></th>\n",
       "      <th></th>\n",
       "      <th></th>\n",
       "      <th></th>\n",
       "      <th></th>\n",
       "      <th></th>\n",
       "      <th></th>\n",
       "      <th></th>\n",
       "    </tr>\n",
       "  </thead>\n",
       "  <tbody>\n",
       "    <tr>\n",
       "      <th>neg</th>\n",
       "      <td>500.0</td>\n",
       "      <td>68.792000</td>\n",
       "      <td>98.865289</td>\n",
       "      <td>0.0</td>\n",
       "      <td>0.0</td>\n",
       "      <td>39.0</td>\n",
       "      <td>105.00</td>\n",
       "      <td>744.0</td>\n",
       "    </tr>\n",
       "    <tr>\n",
       "      <th>pos</th>\n",
       "      <td>268.0</td>\n",
       "      <td>100.335821</td>\n",
       "      <td>138.689125</td>\n",
       "      <td>0.0</td>\n",
       "      <td>0.0</td>\n",
       "      <td>0.0</td>\n",
       "      <td>167.25</td>\n",
       "      <td>846.0</td>\n",
       "    </tr>\n",
       "  </tbody>\n",
       "</table>\n",
       "</div>"
      ],
      "text/plain": [
       "          count        mean         std  min  25%   50%     75%    max\n",
       "diabetes                                                              \n",
       "neg       500.0   68.792000   98.865289  0.0  0.0  39.0  105.00  744.0\n",
       "pos       268.0  100.335821  138.689125  0.0  0.0   0.0  167.25  846.0"
      ]
     },
     "execution_count": 31,
     "metadata": {},
     "output_type": "execute_result"
    }
   ],
   "source": [
    "#insulin 변수의 최솟값, 최댓값, 중앙값, 평균, 제1사분위수, 제3사분위수\n",
    "stat_i = data.groupby(\"diabetes\")[\"insulin\"].describe()\n",
    "stat_i"
   ]
  },
  {
   "cell_type": "code",
   "execution_count": 32,
   "id": "44c85f82",
   "metadata": {},
   "outputs": [
    {
     "data": {
      "text/plain": [
       "<seaborn.axisgrid.FacetGrid at 0x2514be87940>"
      ]
     },
     "execution_count": 32,
     "metadata": {},
     "output_type": "execute_result"
    },
    {
     "data": {
      "image/png": "[encoded data removed]",
      "text/plain": [
       "<Figure size 414.875x360 with 1 Axes>"
      ]
     },
     "metadata": {
      "needs_background": "light"
     },
     "output_type": "display_data"
    }
   ],
   "source": [
    "#insulin 변수 히스토그램\n",
    "sns.displot(data, x=\"insulin\", hue=\"diabetes\")"
   ]
  },
  {
   "cell_type": "code",
   "execution_count": 33,
   "id": "6cc73adc",
   "metadata": {},
   "outputs": [
    {
     "data": {
      "text/plain": [
       "<AxesSubplot:xlabel='diabetes', ylabel='insulin'>"
      ]
     },
     "execution_count": 33,
     "metadata": {},
     "output_type": "execute_result"
    },
    {
     "data": {
      "image/png": "[encoded data removed]",
      "text/plain": [
       "<Figure size 432x288 with 1 Axes>"
      ]
     },
     "metadata": {
      "needs_background": "light"
     },
     "output_type": "display_data"
    }
   ],
   "source": [
    "#insulin 변수 상자그림\n",
    "sns.boxplot(x=\"diabetes\", y=\"insulin\", data=data)"
   ]
  },
  {
   "cell_type": "code",
   "execution_count": 34,
   "id": "75de5d7f",
   "metadata": {},
   "outputs": [
    {
     "data": {
      "text/html": [
       "<div>\n",
       "<style scoped>\n",
       "    .dataframe tbody tr th:only-of-type {\n",
       "        vertical-align: middle;\n",
       "    }\n",
       "\n",
       "    .dataframe tbody tr th {\n",
       "        vertical-align: top;\n",
       "    }\n",
       "\n",
       "    .dataframe thead th {\n",
       "        text-align: right;\n",
       "    }\n",
       "</style>\n",
       "<table border=\"1\" class=\"dataframe\">\n",
       "  <thead>\n",
       "    <tr style=\"text-align: right;\">\n",
       "      <th></th>\n",
       "      <th>count</th>\n",
       "      <th>mean</th>\n",
       "      <th>std</th>\n",
       "      <th>min</th>\n",
       "      <th>25%</th>\n",
       "      <th>50%</th>\n",
       "      <th>75%</th>\n",
       "      <th>max</th>\n",
       "    </tr>\n",
       "    <tr>\n",
       "      <th>diabetes</th>\n",
       "      <th></th>\n",
       "      <th></th>\n",
       "      <th></th>\n",
       "      <th></th>\n",
       "      <th></th>\n",
       "      <th></th>\n",
       "      <th></th>\n",
       "      <th></th>\n",
       "    </tr>\n",
       "  </thead>\n",
       "  <tbody>\n",
       "    <tr>\n",
       "      <th>neg</th>\n",
       "      <td>500.0</td>\n",
       "      <td>30.304200</td>\n",
       "      <td>7.689855</td>\n",
       "      <td>0.0</td>\n",
       "      <td>25.4</td>\n",
       "      <td>30.05</td>\n",
       "      <td>35.300</td>\n",
       "      <td>57.3</td>\n",
       "    </tr>\n",
       "    <tr>\n",
       "      <th>pos</th>\n",
       "      <td>268.0</td>\n",
       "      <td>35.142537</td>\n",
       "      <td>7.262967</td>\n",
       "      <td>0.0</td>\n",
       "      <td>30.8</td>\n",
       "      <td>34.25</td>\n",
       "      <td>38.775</td>\n",
       "      <td>67.1</td>\n",
       "    </tr>\n",
       "  </tbody>\n",
       "</table>\n",
       "</div>"
      ],
      "text/plain": [
       "          count       mean       std  min   25%    50%     75%   max\n",
       "diabetes                                                            \n",
       "neg       500.0  30.304200  7.689855  0.0  25.4  30.05  35.300  57.3\n",
       "pos       268.0  35.142537  7.262967  0.0  30.8  34.25  38.775  67.1"
      ]
     },
     "execution_count": 34,
     "metadata": {},
     "output_type": "execute_result"
    }
   ],
   "source": [
    "#mass 변수의 최솟값, 최댓값, 중앙값, 평균, 제1사분위수, 제3사분위수\n",
    "stat_m = data.groupby(\"diabetes\")[\"mass\"].describe()\n",
    "stat_m"
   ]
  },
  {
   "cell_type": "code",
   "execution_count": 35,
   "id": "8e32e7ec",
   "metadata": {},
   "outputs": [
    {
     "data": {
      "text/plain": [
       "<seaborn.axisgrid.FacetGrid at 0x2514c2dfe20>"
      ]
     },
     "execution_count": 35,
     "metadata": {},
     "output_type": "execute_result"
    },
    {
     "data": {
      "image/png": "[encoded data removed]",
      "text/plain": [
       "<Figure size 414.875x360 with 1 Axes>"
      ]
     },
     "metadata": {
      "needs_background": "light"
     },
     "output_type": "display_data"
    }
   ],
   "source": [
    "#mass 변수 히스토그램\n",
    "sns.displot(data, x=\"mass\", hue=\"diabetes\")"
   ]
  },
  {
   "cell_type": "code",
   "execution_count": 36,
   "id": "551596ac",
   "metadata": {
    "scrolled": true
   },
   "outputs": [
    {
     "data": {
      "text/plain": [
       "<AxesSubplot:xlabel='diabetes', ylabel='mass'>"
      ]
     },
     "execution_count": 36,
     "metadata": {},
     "output_type": "execute_result"
    },
    {
     "data": {
      "image/png": "[encoded data removed]",
      "text/plain": [
       "<Figure size 432x288 with 1 Axes>"
      ]
     },
     "metadata": {
      "needs_background": "light"
     },
     "output_type": "display_data"
    }
   ],
   "source": [
    "#mass 변수 상자그림\n",
    "sns.boxplot(x=\"diabetes\", y=\"mass\", data=data)"
   ]
  },
  {
   "cell_type": "code",
   "execution_count": 37,
   "id": "8c632bd1",
   "metadata": {},
   "outputs": [
    {
     "data": {
      "text/html": [
       "<div>\n",
       "<style scoped>\n",
       "    .dataframe tbody tr th:only-of-type {\n",
       "        vertical-align: middle;\n",
       "    }\n",
       "\n",
       "    .dataframe tbody tr th {\n",
       "        vertical-align: top;\n",
       "    }\n",
       "\n",
       "    .dataframe thead th {\n",
       "        text-align: right;\n",
       "    }\n",
       "</style>\n",
       "<table border=\"1\" class=\"dataframe\">\n",
       "  <thead>\n",
       "    <tr style=\"text-align: right;\">\n",
       "      <th></th>\n",
       "      <th>count</th>\n",
       "      <th>mean</th>\n",
       "      <th>std</th>\n",
       "      <th>min</th>\n",
       "      <th>25%</th>\n",
       "      <th>50%</th>\n",
       "      <th>75%</th>\n",
       "      <th>max</th>\n",
       "    </tr>\n",
       "    <tr>\n",
       "      <th>diabetes</th>\n",
       "      <th></th>\n",
       "      <th></th>\n",
       "      <th></th>\n",
       "      <th></th>\n",
       "      <th></th>\n",
       "      <th></th>\n",
       "      <th></th>\n",
       "      <th></th>\n",
       "    </tr>\n",
       "  </thead>\n",
       "  <tbody>\n",
       "    <tr>\n",
       "      <th>neg</th>\n",
       "      <td>500.0</td>\n",
       "      <td>0.429734</td>\n",
       "      <td>0.299085</td>\n",
       "      <td>0.078</td>\n",
       "      <td>0.22975</td>\n",
       "      <td>0.336</td>\n",
       "      <td>0.56175</td>\n",
       "      <td>2.329</td>\n",
       "    </tr>\n",
       "    <tr>\n",
       "      <th>pos</th>\n",
       "      <td>268.0</td>\n",
       "      <td>0.550500</td>\n",
       "      <td>0.372354</td>\n",
       "      <td>0.088</td>\n",
       "      <td>0.26250</td>\n",
       "      <td>0.449</td>\n",
       "      <td>0.72800</td>\n",
       "      <td>2.420</td>\n",
       "    </tr>\n",
       "  </tbody>\n",
       "</table>\n",
       "</div>"
      ],
      "text/plain": [
       "          count      mean       std    min      25%    50%      75%    max\n",
       "diabetes                                                                  \n",
       "neg       500.0  0.429734  0.299085  0.078  0.22975  0.336  0.56175  2.329\n",
       "pos       268.0  0.550500  0.372354  0.088  0.26250  0.449  0.72800  2.420"
      ]
     },
     "execution_count": 37,
     "metadata": {},
     "output_type": "execute_result"
    }
   ],
   "source": [
    "#pedigree 변수의 최솟값, 최댓값, 중앙값, 평균, 제1사분위수, 제3사분위수\n",
    "stat_pedigree = data.groupby(\"diabetes\")[\"pedigree\"].describe()\n",
    "stat_pedigree"
   ]
  },
  {
   "cell_type": "code",
   "execution_count": 38,
   "id": "cfd18b03",
   "metadata": {},
   "outputs": [
    {
     "data": {
      "text/plain": [
       "<seaborn.axisgrid.FacetGrid at 0x2514c2ea040>"
      ]
     },
     "execution_count": 38,
     "metadata": {},
     "output_type": "execute_result"
    },
    {
     "data": {
      "image/png": "[encoded data removed]",
      "text/plain": [
       "<Figure size 414.875x360 with 1 Axes>"
      ]
     },
     "metadata": {
      "needs_background": "light"
     },
     "output_type": "display_data"
    }
   ],
   "source": [
    "#pedigree 변수 히스토그램\n",
    "sns.displot(data, x=\"pedigree\", hue=\"diabetes\")"
   ]
  },
  {
   "cell_type": "code",
   "execution_count": 39,
   "id": "c82c2923",
   "metadata": {},
   "outputs": [
    {
     "data": {
      "text/plain": [
       "<AxesSubplot:xlabel='diabetes', ylabel='pedigree'>"
      ]
     },
     "execution_count": 39,
     "metadata": {},
     "output_type": "execute_result"
    },
    {
     "data": {
      "image/png": "[encoded data removed]",
      "text/plain": [
       "<Figure size 432x288 with 1 Axes>"
      ]
     },
     "metadata": {
      "needs_background": "light"
     },
     "output_type": "display_data"
    }
   ],
   "source": [
    "#pedigree 변수 상자그림\n",
    "sns.boxplot(x=\"diabetes\", y=\"pedigree\", data=data)"
   ]
  },
  {
   "cell_type": "code",
   "execution_count": 40,
   "id": "95e28299",
   "metadata": {},
   "outputs": [
    {
     "data": {
      "text/html": [
       "<div>\n",
       "<style scoped>\n",
       "    .dataframe tbody tr th:only-of-type {\n",
       "        vertical-align: middle;\n",
       "    }\n",
       "\n",
       "    .dataframe tbody tr th {\n",
       "        vertical-align: top;\n",
       "    }\n",
       "\n",
       "    .dataframe thead th {\n",
       "        text-align: right;\n",
       "    }\n",
       "</style>\n",
       "<table border=\"1\" class=\"dataframe\">\n",
       "  <thead>\n",
       "    <tr style=\"text-align: right;\">\n",
       "      <th></th>\n",
       "      <th>count</th>\n",
       "      <th>mean</th>\n",
       "      <th>std</th>\n",
       "      <th>min</th>\n",
       "      <th>25%</th>\n",
       "      <th>50%</th>\n",
       "      <th>75%</th>\n",
       "      <th>max</th>\n",
       "    </tr>\n",
       "    <tr>\n",
       "      <th>diabetes</th>\n",
       "      <th></th>\n",
       "      <th></th>\n",
       "      <th></th>\n",
       "      <th></th>\n",
       "      <th></th>\n",
       "      <th></th>\n",
       "      <th></th>\n",
       "      <th></th>\n",
       "    </tr>\n",
       "  </thead>\n",
       "  <tbody>\n",
       "    <tr>\n",
       "      <th>neg</th>\n",
       "      <td>500.0</td>\n",
       "      <td>31.190000</td>\n",
       "      <td>11.667655</td>\n",
       "      <td>21.0</td>\n",
       "      <td>23.0</td>\n",
       "      <td>27.0</td>\n",
       "      <td>37.0</td>\n",
       "      <td>81.0</td>\n",
       "    </tr>\n",
       "    <tr>\n",
       "      <th>pos</th>\n",
       "      <td>268.0</td>\n",
       "      <td>37.067164</td>\n",
       "      <td>10.968254</td>\n",
       "      <td>21.0</td>\n",
       "      <td>28.0</td>\n",
       "      <td>36.0</td>\n",
       "      <td>44.0</td>\n",
       "      <td>70.0</td>\n",
       "    </tr>\n",
       "  </tbody>\n",
       "</table>\n",
       "</div>"
      ],
      "text/plain": [
       "          count       mean        std   min   25%   50%   75%   max\n",
       "diabetes                                                           \n",
       "neg       500.0  31.190000  11.667655  21.0  23.0  27.0  37.0  81.0\n",
       "pos       268.0  37.067164  10.968254  21.0  28.0  36.0  44.0  70.0"
      ]
     },
     "execution_count": 40,
     "metadata": {},
     "output_type": "execute_result"
    }
   ],
   "source": [
    "#age 변수의 최솟값, 최댓값, 중앙값, 평균, 제1사분위수, 제3사분위수\n",
    "stat_a = data.groupby(\"diabetes\")[\"age\"].describe()\n",
    "stat_a"
   ]
  },
  {
   "cell_type": "code",
   "execution_count": 41,
   "id": "227ede82",
   "metadata": {},
   "outputs": [
    {
     "data": {
      "text/plain": [
       "<seaborn.axisgrid.FacetGrid at 0x2514c667f40>"
      ]
     },
     "execution_count": 41,
     "metadata": {},
     "output_type": "execute_result"
    },
    {
     "data": {
      "image/png": "[encoded data removed]",
      "text/plain": [
       "<Figure size 414.875x360 with 1 Axes>"
      ]
     },
     "metadata": {
      "needs_background": "light"
     },
     "output_type": "display_data"
    }
   ],
   "source": [
    "#age 변수 히스토그램\n",
    "sns.displot(data, x=\"age\", hue=\"diabetes\")"
   ]
  },
  {
   "cell_type": "code",
   "execution_count": 42,
   "id": "790612b0",
   "metadata": {},
   "outputs": [
    {
     "data": {
      "text/plain": [
       "<AxesSubplot:xlabel='diabetes', ylabel='age'>"
      ]
     },
     "execution_count": 42,
     "metadata": {},
     "output_type": "execute_result"
    },
    {
     "data": {
      "image/png": "[encoded data removed]",
      "text/plain": [
       "<Figure size 432x288 with 1 Axes>"
      ]
     },
     "metadata": {
      "needs_background": "light"
     },
     "output_type": "display_data"
    }
   ],
   "source": [
    "#age 변수 상자그림\n",
    "sns.boxplot(x=\"diabetes\", y=\"age\", data=data)"
   ]
  },
  {
   "cell_type": "markdown",
   "id": "368a3efb",
   "metadata": {},
   "source": [
    "##### (3) age를 “20-30”, “31-40”, “41-50”, “50+”인 네 그룹으로 나누고, diabetes와의 분할표를 구하시오. 또한 겹친 막대그림을 그리고, 분포를 비교, 설명하시오."
   ]
  },
  {
   "cell_type": "markdown",
   "id": "0885d4cc",
   "metadata": {},
   "source": [
    "age는 연속되 변수로, 임의로 그룹형 범주로 나누기 위해 새로운 파생변수인 'age_category'를 생성해야 한다."
   ]
  },
  {
   "cell_type": "code",
   "execution_count": 43,
   "id": "9be1dc21",
   "metadata": {},
   "outputs": [
    {
     "data": {
      "text/html": [
       "<div>\n",
       "<style scoped>\n",
       "    .dataframe tbody tr th:only-of-type {\n",
       "        vertical-align: middle;\n",
       "    }\n",
       "\n",
       "    .dataframe tbody tr th {\n",
       "        vertical-align: top;\n",
       "    }\n",
       "\n",
       "    .dataframe thead th {\n",
       "        text-align: right;\n",
       "    }\n",
       "</style>\n",
       "<table border=\"1\" class=\"dataframe\">\n",
       "  <thead>\n",
       "    <tr style=\"text-align: right;\">\n",
       "      <th></th>\n",
       "      <th>id</th>\n",
       "      <th>pregnant</th>\n",
       "      <th>glucose</th>\n",
       "      <th>pressure</th>\n",
       "      <th>triceps</th>\n",
       "      <th>insulin</th>\n",
       "      <th>mass</th>\n",
       "      <th>pedigree</th>\n",
       "      <th>age</th>\n",
       "      <th>diabetes</th>\n",
       "      <th>age_category</th>\n",
       "    </tr>\n",
       "  </thead>\n",
       "  <tbody>\n",
       "    <tr>\n",
       "      <th>0</th>\n",
       "      <td>1</td>\n",
       "      <td>6</td>\n",
       "      <td>148</td>\n",
       "      <td>72</td>\n",
       "      <td>35</td>\n",
       "      <td>0</td>\n",
       "      <td>33.6</td>\n",
       "      <td>0.627</td>\n",
       "      <td>50</td>\n",
       "      <td>pos</td>\n",
       "      <td>41-50</td>\n",
       "    </tr>\n",
       "    <tr>\n",
       "      <th>1</th>\n",
       "      <td>2</td>\n",
       "      <td>1</td>\n",
       "      <td>85</td>\n",
       "      <td>66</td>\n",
       "      <td>29</td>\n",
       "      <td>0</td>\n",
       "      <td>26.6</td>\n",
       "      <td>0.351</td>\n",
       "      <td>31</td>\n",
       "      <td>neg</td>\n",
       "      <td>31-40</td>\n",
       "    </tr>\n",
       "    <tr>\n",
       "      <th>2</th>\n",
       "      <td>3</td>\n",
       "      <td>8</td>\n",
       "      <td>183</td>\n",
       "      <td>64</td>\n",
       "      <td>0</td>\n",
       "      <td>0</td>\n",
       "      <td>23.3</td>\n",
       "      <td>0.672</td>\n",
       "      <td>32</td>\n",
       "      <td>pos</td>\n",
       "      <td>31-40</td>\n",
       "    </tr>\n",
       "    <tr>\n",
       "      <th>3</th>\n",
       "      <td>4</td>\n",
       "      <td>1</td>\n",
       "      <td>89</td>\n",
       "      <td>66</td>\n",
       "      <td>23</td>\n",
       "      <td>94</td>\n",
       "      <td>28.1</td>\n",
       "      <td>0.167</td>\n",
       "      <td>21</td>\n",
       "      <td>neg</td>\n",
       "      <td>20-30</td>\n",
       "    </tr>\n",
       "    <tr>\n",
       "      <th>4</th>\n",
       "      <td>5</td>\n",
       "      <td>0</td>\n",
       "      <td>137</td>\n",
       "      <td>40</td>\n",
       "      <td>35</td>\n",
       "      <td>168</td>\n",
       "      <td>43.1</td>\n",
       "      <td>2.288</td>\n",
       "      <td>33</td>\n",
       "      <td>pos</td>\n",
       "      <td>31-40</td>\n",
       "    </tr>\n",
       "    <tr>\n",
       "      <th>...</th>\n",
       "      <td>...</td>\n",
       "      <td>...</td>\n",
       "      <td>...</td>\n",
       "      <td>...</td>\n",
       "      <td>...</td>\n",
       "      <td>...</td>\n",
       "      <td>...</td>\n",
       "      <td>...</td>\n",
       "      <td>...</td>\n",
       "      <td>...</td>\n",
       "      <td>...</td>\n",
       "    </tr>\n",
       "    <tr>\n",
       "      <th>763</th>\n",
       "      <td>764</td>\n",
       "      <td>10</td>\n",
       "      <td>101</td>\n",
       "      <td>76</td>\n",
       "      <td>48</td>\n",
       "      <td>180</td>\n",
       "      <td>32.9</td>\n",
       "      <td>0.171</td>\n",
       "      <td>63</td>\n",
       "      <td>neg</td>\n",
       "      <td>50+</td>\n",
       "    </tr>\n",
       "    <tr>\n",
       "      <th>764</th>\n",
       "      <td>765</td>\n",
       "      <td>2</td>\n",
       "      <td>122</td>\n",
       "      <td>70</td>\n",
       "      <td>27</td>\n",
       "      <td>0</td>\n",
       "      <td>36.8</td>\n",
       "      <td>0.340</td>\n",
       "      <td>27</td>\n",
       "      <td>neg</td>\n",
       "      <td>20-30</td>\n",
       "    </tr>\n",
       "    <tr>\n",
       "      <th>765</th>\n",
       "      <td>766</td>\n",
       "      <td>5</td>\n",
       "      <td>121</td>\n",
       "      <td>72</td>\n",
       "      <td>23</td>\n",
       "      <td>112</td>\n",
       "      <td>26.2</td>\n",
       "      <td>0.245</td>\n",
       "      <td>30</td>\n",
       "      <td>neg</td>\n",
       "      <td>20-30</td>\n",
       "    </tr>\n",
       "    <tr>\n",
       "      <th>766</th>\n",
       "      <td>767</td>\n",
       "      <td>1</td>\n",
       "      <td>126</td>\n",
       "      <td>60</td>\n",
       "      <td>0</td>\n",
       "      <td>0</td>\n",
       "      <td>30.1</td>\n",
       "      <td>0.349</td>\n",
       "      <td>47</td>\n",
       "      <td>pos</td>\n",
       "      <td>41-50</td>\n",
       "    </tr>\n",
       "    <tr>\n",
       "      <th>767</th>\n",
       "      <td>768</td>\n",
       "      <td>1</td>\n",
       "      <td>93</td>\n",
       "      <td>70</td>\n",
       "      <td>31</td>\n",
       "      <td>0</td>\n",
       "      <td>30.4</td>\n",
       "      <td>0.315</td>\n",
       "      <td>23</td>\n",
       "      <td>neg</td>\n",
       "      <td>20-30</td>\n",
       "    </tr>\n",
       "  </tbody>\n",
       "</table>\n",
       "<p>768 rows × 11 columns</p>\n",
       "</div>"
      ],
      "text/plain": [
       "      id  pregnant  glucose  pressure  triceps  insulin  mass  pedigree  age  \\\n",
       "0      1         6      148        72       35        0  33.6     0.627   50   \n",
       "1      2         1       85        66       29        0  26.6     0.351   31   \n",
       "2      3         8      183        64        0        0  23.3     0.672   32   \n",
       "3      4         1       89        66       23       94  28.1     0.167   21   \n",
       "4      5         0      137        40       35      168  43.1     2.288   33   \n",
       "..   ...       ...      ...       ...      ...      ...   ...       ...  ...   \n",
       "763  764        10      101        76       48      180  32.9     0.171   63   \n",
       "764  765         2      122        70       27        0  36.8     0.340   27   \n",
       "765  766         5      121        72       23      112  26.2     0.245   30   \n",
       "766  767         1      126        60        0        0  30.1     0.349   47   \n",
       "767  768         1       93        70       31        0  30.4     0.315   23   \n",
       "\n",
       "    diabetes age_category  \n",
       "0        pos        41-50  \n",
       "1        neg        31-40  \n",
       "2        pos        31-40  \n",
       "3        neg        20-30  \n",
       "4        pos        31-40  \n",
       "..       ...          ...  \n",
       "763      neg          50+  \n",
       "764      neg        20-30  \n",
       "765      neg        20-30  \n",
       "766      pos        41-50  \n",
       "767      neg        20-30  \n",
       "\n",
       "[768 rows x 11 columns]"
      ]
     },
     "execution_count": 43,
     "metadata": {},
     "output_type": "execute_result"
    }
   ],
   "source": [
    "data[\"age_category\"]=0\n",
    "\n",
    "data.loc[(data[\"age\"]>=20) & (data[\"age\"]<=30), \"age_category\"] = '20-30'\n",
    "data.loc[(data[\"age\"]>30) & (data[\"age\"]<=40), \"age_category\"] = '31-40'\n",
    "data.loc[(data[\"age\"]>40) & (data[\"age\"]<=50), \"age_category\"] = '41-50'\n",
    "data.loc[(data[\"age\"]>50), \"age_category\"] = '50+'\n",
    "\n",
    "data"
   ]
  },
  {
   "cell_type": "markdown",
   "id": "36ad010b",
   "metadata": {},
   "source": [
    "age에 따른 네 그룹의 diabetes 분할표는 다음과 같다."
   ]
  },
  {
   "cell_type": "code",
   "execution_count": 44,
   "id": "57b258ed",
   "metadata": {},
   "outputs": [
    {
     "name": "stdout",
     "output_type": "stream",
     "text": [
      "age           count\n",
      "age_category       \n",
      "20-30           417\n",
      "31-40           157\n",
      "41-50           113\n",
      "50+              81\n"
     ]
    }
   ],
   "source": [
    "data_table1 = pd.crosstab(index=data[\"age_category\"], colnames=[\"age\"], columns=\"count\")\n",
    "print(data_table1)"
   ]
  },
  {
   "cell_type": "code",
   "execution_count": 45,
   "id": "b4e643c8",
   "metadata": {},
   "outputs": [
    {
     "name": "stdout",
     "output_type": "stream",
     "text": [
      "age                    count\n",
      "diabetes age_category       \n",
      "neg      20-30           327\n",
      "         31-40            81\n",
      "         41-50            49\n",
      "         50+              43\n",
      "pos      20-30            90\n",
      "         31-40            76\n",
      "         41-50            64\n",
      "         50+              38\n"
     ]
    }
   ],
   "source": [
    "data_table2= pd.crosstab(index=[data.diabetes, data.age_category], colnames=[\"age\"], columns=\"count\")\n",
    "print(data_table2)"
   ]
  },
  {
   "cell_type": "markdown",
   "id": "42033d62",
   "metadata": {},
   "source": [
    "막대그래프를 살펴 보면, 20-30의 수가 가장 많으며, diabetes가 20-30 age 그룹에서는 neg가 다수를 차지하는 반면, 41-50 age 그룹에서는 pos가 neg를 추월한다."
   ]
  },
  {
   "cell_type": "code",
   "execution_count": 46,
   "id": "4ff45b9c",
   "metadata": {},
   "outputs": [
    {
     "data": {
      "text/plain": [
       "<seaborn.axisgrid.FacetGrid at 0x2514c43e430>"
      ]
     },
     "execution_count": 46,
     "metadata": {},
     "output_type": "execute_result"
    },
    {
     "data": {
      "image/png": "[encoded data removed]",
      "text/plain": [
       "<Figure size 414.875x360 with 1 Axes>"
      ]
     },
     "metadata": {
      "needs_background": "light"
     },
     "output_type": "display_data"
    }
   ],
   "source": [
    "# age_category를 범주형으로 변환하고 원하는 순서로 정렬\n",
    "age_order = ['20-30', '31-40', '41-50', '50+']\n",
    "data['age_category'] = pd.Categorical(data['age_category'], categories=age_order, ordered=True)\n",
    "\n",
    "# 히스토그램 그리기\n",
    "sns.displot(data, x=\"age_category\", hue=\"diabetes\")"
   ]
  },
  {
   "cell_type": "markdown",
   "id": "64e9f676",
   "metadata": {},
   "source": [
    "##### (4) pregnant를 “0-5”, “6-10”, “10+”인 세 그룹으로 나누고, diabetes와의 분할표를 구하시오. 또한 겹친 막대그림을 그리고, 분포를 비교, 설명하시오."
   ]
  },
  {
   "cell_type": "markdown",
   "id": "a25cf3f0",
   "metadata": {},
   "source": [
    "age와 유사하게 pregnant를 임의로 그룹형 범주로 나누어 주기 위해서 새로운 파생 변수 'pregnant_category'를 생성해야 한다."
   ]
  },
  {
   "cell_type": "code",
   "execution_count": 47,
   "id": "d8ac8b27",
   "metadata": {},
   "outputs": [
    {
     "data": {
      "text/html": [
       "<div>\n",
       "<style scoped>\n",
       "    .dataframe tbody tr th:only-of-type {\n",
       "        vertical-align: middle;\n",
       "    }\n",
       "\n",
       "    .dataframe tbody tr th {\n",
       "        vertical-align: top;\n",
       "    }\n",
       "\n",
       "    .dataframe thead th {\n",
       "        text-align: right;\n",
       "    }\n",
       "</style>\n",
       "<table border=\"1\" class=\"dataframe\">\n",
       "  <thead>\n",
       "    <tr style=\"text-align: right;\">\n",
       "      <th></th>\n",
       "      <th>id</th>\n",
       "      <th>pregnant</th>\n",
       "      <th>glucose</th>\n",
       "      <th>pressure</th>\n",
       "      <th>triceps</th>\n",
       "      <th>insulin</th>\n",
       "      <th>mass</th>\n",
       "      <th>pedigree</th>\n",
       "      <th>age</th>\n",
       "      <th>diabetes</th>\n",
       "      <th>age_category</th>\n",
       "      <th>pregnant_category</th>\n",
       "    </tr>\n",
       "  </thead>\n",
       "  <tbody>\n",
       "    <tr>\n",
       "      <th>0</th>\n",
       "      <td>1</td>\n",
       "      <td>6</td>\n",
       "      <td>148</td>\n",
       "      <td>72</td>\n",
       "      <td>35</td>\n",
       "      <td>0</td>\n",
       "      <td>33.6</td>\n",
       "      <td>0.627</td>\n",
       "      <td>50</td>\n",
       "      <td>pos</td>\n",
       "      <td>41-50</td>\n",
       "      <td>6-10</td>\n",
       "    </tr>\n",
       "    <tr>\n",
       "      <th>1</th>\n",
       "      <td>2</td>\n",
       "      <td>1</td>\n",
       "      <td>85</td>\n",
       "      <td>66</td>\n",
       "      <td>29</td>\n",
       "      <td>0</td>\n",
       "      <td>26.6</td>\n",
       "      <td>0.351</td>\n",
       "      <td>31</td>\n",
       "      <td>neg</td>\n",
       "      <td>31-40</td>\n",
       "      <td>0-5</td>\n",
       "    </tr>\n",
       "    <tr>\n",
       "      <th>2</th>\n",
       "      <td>3</td>\n",
       "      <td>8</td>\n",
       "      <td>183</td>\n",
       "      <td>64</td>\n",
       "      <td>0</td>\n",
       "      <td>0</td>\n",
       "      <td>23.3</td>\n",
       "      <td>0.672</td>\n",
       "      <td>32</td>\n",
       "      <td>pos</td>\n",
       "      <td>31-40</td>\n",
       "      <td>6-10</td>\n",
       "    </tr>\n",
       "    <tr>\n",
       "      <th>3</th>\n",
       "      <td>4</td>\n",
       "      <td>1</td>\n",
       "      <td>89</td>\n",
       "      <td>66</td>\n",
       "      <td>23</td>\n",
       "      <td>94</td>\n",
       "      <td>28.1</td>\n",
       "      <td>0.167</td>\n",
       "      <td>21</td>\n",
       "      <td>neg</td>\n",
       "      <td>20-30</td>\n",
       "      <td>0-5</td>\n",
       "    </tr>\n",
       "    <tr>\n",
       "      <th>4</th>\n",
       "      <td>5</td>\n",
       "      <td>0</td>\n",
       "      <td>137</td>\n",
       "      <td>40</td>\n",
       "      <td>35</td>\n",
       "      <td>168</td>\n",
       "      <td>43.1</td>\n",
       "      <td>2.288</td>\n",
       "      <td>33</td>\n",
       "      <td>pos</td>\n",
       "      <td>31-40</td>\n",
       "      <td>0-5</td>\n",
       "    </tr>\n",
       "    <tr>\n",
       "      <th>...</th>\n",
       "      <td>...</td>\n",
       "      <td>...</td>\n",
       "      <td>...</td>\n",
       "      <td>...</td>\n",
       "      <td>...</td>\n",
       "      <td>...</td>\n",
       "      <td>...</td>\n",
       "      <td>...</td>\n",
       "      <td>...</td>\n",
       "      <td>...</td>\n",
       "      <td>...</td>\n",
       "      <td>...</td>\n",
       "    </tr>\n",
       "    <tr>\n",
       "      <th>763</th>\n",
       "      <td>764</td>\n",
       "      <td>10</td>\n",
       "      <td>101</td>\n",
       "      <td>76</td>\n",
       "      <td>48</td>\n",
       "      <td>180</td>\n",
       "      <td>32.9</td>\n",
       "      <td>0.171</td>\n",
       "      <td>63</td>\n",
       "      <td>neg</td>\n",
       "      <td>50+</td>\n",
       "      <td>6-10</td>\n",
       "    </tr>\n",
       "    <tr>\n",
       "      <th>764</th>\n",
       "      <td>765</td>\n",
       "      <td>2</td>\n",
       "      <td>122</td>\n",
       "      <td>70</td>\n",
       "      <td>27</td>\n",
       "      <td>0</td>\n",
       "      <td>36.8</td>\n",
       "      <td>0.340</td>\n",
       "      <td>27</td>\n",
       "      <td>neg</td>\n",
       "      <td>20-30</td>\n",
       "      <td>0-5</td>\n",
       "    </tr>\n",
       "    <tr>\n",
       "      <th>765</th>\n",
       "      <td>766</td>\n",
       "      <td>5</td>\n",
       "      <td>121</td>\n",
       "      <td>72</td>\n",
       "      <td>23</td>\n",
       "      <td>112</td>\n",
       "      <td>26.2</td>\n",
       "      <td>0.245</td>\n",
       "      <td>30</td>\n",
       "      <td>neg</td>\n",
       "      <td>20-30</td>\n",
       "      <td>0-5</td>\n",
       "    </tr>\n",
       "    <tr>\n",
       "      <th>766</th>\n",
       "      <td>767</td>\n",
       "      <td>1</td>\n",
       "      <td>126</td>\n",
       "      <td>60</td>\n",
       "      <td>0</td>\n",
       "      <td>0</td>\n",
       "      <td>30.1</td>\n",
       "      <td>0.349</td>\n",
       "      <td>47</td>\n",
       "      <td>pos</td>\n",
       "      <td>41-50</td>\n",
       "      <td>0-5</td>\n",
       "    </tr>\n",
       "    <tr>\n",
       "      <th>767</th>\n",
       "      <td>768</td>\n",
       "      <td>1</td>\n",
       "      <td>93</td>\n",
       "      <td>70</td>\n",
       "      <td>31</td>\n",
       "      <td>0</td>\n",
       "      <td>30.4</td>\n",
       "      <td>0.315</td>\n",
       "      <td>23</td>\n",
       "      <td>neg</td>\n",
       "      <td>20-30</td>\n",
       "      <td>0-5</td>\n",
       "    </tr>\n",
       "  </tbody>\n",
       "</table>\n",
       "<p>768 rows × 12 columns</p>\n",
       "</div>"
      ],
      "text/plain": [
       "      id  pregnant  glucose  pressure  triceps  insulin  mass  pedigree  age  \\\n",
       "0      1         6      148        72       35        0  33.6     0.627   50   \n",
       "1      2         1       85        66       29        0  26.6     0.351   31   \n",
       "2      3         8      183        64        0        0  23.3     0.672   32   \n",
       "3      4         1       89        66       23       94  28.1     0.167   21   \n",
       "4      5         0      137        40       35      168  43.1     2.288   33   \n",
       "..   ...       ...      ...       ...      ...      ...   ...       ...  ...   \n",
       "763  764        10      101        76       48      180  32.9     0.171   63   \n",
       "764  765         2      122        70       27        0  36.8     0.340   27   \n",
       "765  766         5      121        72       23      112  26.2     0.245   30   \n",
       "766  767         1      126        60        0        0  30.1     0.349   47   \n",
       "767  768         1       93        70       31        0  30.4     0.315   23   \n",
       "\n",
       "    diabetes age_category pregnant_category  \n",
       "0        pos        41-50              6-10  \n",
       "1        neg        31-40               0-5  \n",
       "2        pos        31-40              6-10  \n",
       "3        neg        20-30               0-5  \n",
       "4        pos        31-40               0-5  \n",
       "..       ...          ...               ...  \n",
       "763      neg          50+              6-10  \n",
       "764      neg        20-30               0-5  \n",
       "765      neg        20-30               0-5  \n",
       "766      pos        41-50               0-5  \n",
       "767      neg        20-30               0-5  \n",
       "\n",
       "[768 rows x 12 columns]"
      ]
     },
     "execution_count": 47,
     "metadata": {},
     "output_type": "execute_result"
    }
   ],
   "source": [
    "data[\"pregnant_category\"]=0\n",
    "\n",
    "data.loc[(data[\"pregnant\"]>=0) & (data[\"pregnant\"]<=5), \"pregnant_category\"] = '0-5'\n",
    "data.loc[(data[\"pregnant\"]>5) & (data[\"pregnant\"]<=10), \"pregnant_category\"] = '6-10'\n",
    "data.loc[(data[\"pregnant\"]>10), \"pregnant_category\"] = '10+'\n",
    "\n",
    "data"
   ]
  },
  {
   "cell_type": "markdown",
   "id": "5c26028b",
   "metadata": {},
   "source": [
    "pregnant 횟수에 따른 세 그룹의 diabetes 분할표는 다음과 같다."
   ]
  },
  {
   "cell_type": "code",
   "execution_count": 48,
   "id": "ed9bfcc1",
   "metadata": {},
   "outputs": [
    {
     "name": "stdout",
     "output_type": "stream",
     "text": [
      "pregnant           count\n",
      "pregnant_category       \n",
      "0-5                  549\n",
      "10+                   34\n",
      "6-10                 185\n"
     ]
    }
   ],
   "source": [
    "data_table3 = pd.crosstab(index=data[\"pregnant_category\"], colnames=[\"pregnant\"], columns=\"count\")\n",
    "print(data_table3)"
   ]
  },
  {
   "cell_type": "code",
   "execution_count": 49,
   "id": "d3f8e44e",
   "metadata": {},
   "outputs": [
    {
     "name": "stdout",
     "output_type": "stream",
     "text": [
      "pregnant                    count\n",
      "diabetes pregnant_category       \n",
      "neg      0-5                  392\n",
      "         10+                   14\n",
      "         6-10                  94\n",
      "pos      0-5                  157\n",
      "         10+                   20\n",
      "         6-10                  91\n"
     ]
    }
   ],
   "source": [
    "data_table4 = pd.crosstab(index=[data.diabetes, data.pregnant_category], colnames=[\"pregnant\"], columns=\"count\")\n",
    "print(data_table4)"
   ]
  },
  {
   "cell_type": "markdown",
   "id": "ffd73236",
   "metadata": {},
   "source": [
    "pregnant 횟수에 따라 나눈 세 그룹의 막대그래프를 살펴보면, 0-5 그룹의 경우 diabetes의 neg가 pos가 더 많았다. 하지만 6-10과 10+의 경우 pos의 비율이 더 높아졌으며, 10+ 그룹에서는 neg보다도 더 많았다. 이를 통해 pregnant 횟수와 diabetes의 pos와의 연관성이 높음을 추론해 볼 수 있다."
   ]
  },
  {
   "cell_type": "code",
   "execution_count": 50,
   "id": "79c8c1ff",
   "metadata": {},
   "outputs": [
    {
     "data": {
      "text/plain": [
       "<seaborn.axisgrid.FacetGrid at 0x2514c2f1eb0>"
      ]
     },
     "execution_count": 50,
     "metadata": {},
     "output_type": "execute_result"
    },
    {
     "data": {
      "image/png": "[encoded data removed]",
      "text/plain": [
       "<Figure size 414.875x360 with 1 Axes>"
      ]
     },
     "metadata": {
      "needs_background": "light"
     },
     "output_type": "display_data"
    }
   ],
   "source": [
    "# age_category를 범주형으로 변환하고 원하는 순서로 정렬\n",
    "pregnant_order = ['0-5', '6-10', '10+']\n",
    "data['pregnant_category'] = pd.Categorical(data['pregnant_category'], categories=pregnant_order, ordered=True)\n",
    "\n",
    "# 히스토그램 그리기\n",
    "sns.displot(data, x=\"pregnant_category\", hue=\"diabetes\")"
   ]
  },
  {
   "cell_type": "markdown",
   "id": "6b641099",
   "metadata": {},
   "source": [
    "##### (5) diabetes와 pregnant(4번 세 그룹)의 각 그룹에 대해서 (glucose, pressure, triceps, insulin, mass, pedigree)의 평균과 표준편차를 구하시오."
   ]
  },
  {
   "cell_type": "code",
   "execution_count": 51,
   "id": "d12a1749",
   "metadata": {},
   "outputs": [
    {
     "data": {
      "text/html": [
       "<div>\n",
       "<style scoped>\n",
       "    .dataframe tbody tr th:only-of-type {\n",
       "        vertical-align: middle;\n",
       "    }\n",
       "\n",
       "    .dataframe tbody tr th {\n",
       "        vertical-align: top;\n",
       "    }\n",
       "\n",
       "    .dataframe thead th {\n",
       "        text-align: right;\n",
       "    }\n",
       "</style>\n",
       "<table border=\"1\" class=\"dataframe\">\n",
       "  <thead>\n",
       "    <tr style=\"text-align: right;\">\n",
       "      <th></th>\n",
       "      <th>count</th>\n",
       "      <th>mean</th>\n",
       "      <th>std</th>\n",
       "      <th>min</th>\n",
       "      <th>25%</th>\n",
       "      <th>50%</th>\n",
       "      <th>75%</th>\n",
       "      <th>max</th>\n",
       "    </tr>\n",
       "    <tr>\n",
       "      <th>pregnant_category</th>\n",
       "      <th></th>\n",
       "      <th></th>\n",
       "      <th></th>\n",
       "      <th></th>\n",
       "      <th></th>\n",
       "      <th></th>\n",
       "      <th></th>\n",
       "      <th></th>\n",
       "    </tr>\n",
       "  </thead>\n",
       "  <tbody>\n",
       "    <tr>\n",
       "      <th>0-5</th>\n",
       "      <td>549.0</td>\n",
       "      <td>118.102004</td>\n",
       "      <td>31.076732</td>\n",
       "      <td>0.0</td>\n",
       "      <td>97.0</td>\n",
       "      <td>114.0</td>\n",
       "      <td>136.00</td>\n",
       "      <td>199.0</td>\n",
       "    </tr>\n",
       "    <tr>\n",
       "      <th>6-10</th>\n",
       "      <td>185.0</td>\n",
       "      <td>128.470270</td>\n",
       "      <td>34.403937</td>\n",
       "      <td>0.0</td>\n",
       "      <td>105.0</td>\n",
       "      <td>124.0</td>\n",
       "      <td>154.00</td>\n",
       "      <td>197.0</td>\n",
       "    </tr>\n",
       "    <tr>\n",
       "      <th>10+</th>\n",
       "      <td>34.0</td>\n",
       "      <td>124.764706</td>\n",
       "      <td>25.601916</td>\n",
       "      <td>76.0</td>\n",
       "      <td>104.5</td>\n",
       "      <td>128.0</td>\n",
       "      <td>142.25</td>\n",
       "      <td>175.0</td>\n",
       "    </tr>\n",
       "  </tbody>\n",
       "</table>\n",
       "</div>"
      ],
      "text/plain": [
       "                   count        mean        std   min    25%    50%     75%  \\\n",
       "pregnant_category                                                             \n",
       "0-5                549.0  118.102004  31.076732   0.0   97.0  114.0  136.00   \n",
       "6-10               185.0  128.470270  34.403937   0.0  105.0  124.0  154.00   \n",
       "10+                 34.0  124.764706  25.601916  76.0  104.5  128.0  142.25   \n",
       "\n",
       "                     max  \n",
       "pregnant_category         \n",
       "0-5                199.0  \n",
       "6-10               197.0  \n",
       "10+                175.0  "
      ]
     },
     "execution_count": 51,
     "metadata": {},
     "output_type": "execute_result"
    }
   ],
   "source": [
    "stat_a = data.groupby(\"pregnant_category\")[\"glucose\"].describe()\n",
    "stat_a"
   ]
  },
  {
   "cell_type": "code",
   "execution_count": 52,
   "id": "ec058e3a",
   "metadata": {},
   "outputs": [
    {
     "data": {
      "text/plain": [
       "pregnant_category\n",
       "0-5     118.102004\n",
       "6-10    128.470270\n",
       "10+     124.764706\n",
       "Name: glucose, dtype: float64"
      ]
     },
     "execution_count": 52,
     "metadata": {},
     "output_type": "execute_result"
    }
   ],
   "source": [
    "stat_a = data.groupby(\"pregnant_category\")[\"glucose\"]\n",
    "stat_a.mean()"
   ]
  },
  {
   "cell_type": "code",
   "execution_count": 53,
   "id": "9bc8f587",
   "metadata": {},
   "outputs": [
    {
     "data": {
      "text/plain": [
       "pregnant_category\n",
       "0-5     31.076732\n",
       "6-10    34.403937\n",
       "10+     25.601916\n",
       "Name: glucose, dtype: float64"
      ]
     },
     "execution_count": 53,
     "metadata": {},
     "output_type": "execute_result"
    }
   ],
   "source": [
    "stat_a = data.groupby(\"pregnant_category\")[\"glucose\"]\n",
    "stat_a.std()"
   ]
  },
  {
   "cell_type": "code",
   "execution_count": 54,
   "id": "d47ddcd6",
   "metadata": {},
   "outputs": [
    {
     "data": {
      "text/html": [
       "<div>\n",
       "<style scoped>\n",
       "    .dataframe tbody tr th:only-of-type {\n",
       "        vertical-align: middle;\n",
       "    }\n",
       "\n",
       "    .dataframe tbody tr th {\n",
       "        vertical-align: top;\n",
       "    }\n",
       "\n",
       "    .dataframe thead th {\n",
       "        text-align: right;\n",
       "    }\n",
       "</style>\n",
       "<table border=\"1\" class=\"dataframe\">\n",
       "  <thead>\n",
       "    <tr style=\"text-align: right;\">\n",
       "      <th></th>\n",
       "      <th>count</th>\n",
       "      <th>mean</th>\n",
       "      <th>std</th>\n",
       "      <th>min</th>\n",
       "      <th>25%</th>\n",
       "      <th>50%</th>\n",
       "      <th>75%</th>\n",
       "      <th>max</th>\n",
       "    </tr>\n",
       "    <tr>\n",
       "      <th>pregnant_category</th>\n",
       "      <th></th>\n",
       "      <th></th>\n",
       "      <th></th>\n",
       "      <th></th>\n",
       "      <th></th>\n",
       "      <th></th>\n",
       "      <th></th>\n",
       "      <th></th>\n",
       "    </tr>\n",
       "  </thead>\n",
       "  <tbody>\n",
       "    <tr>\n",
       "      <th>0-5</th>\n",
       "      <td>549.0</td>\n",
       "      <td>67.797814</td>\n",
       "      <td>18.949248</td>\n",
       "      <td>0.0</td>\n",
       "      <td>62.0</td>\n",
       "      <td>70.0</td>\n",
       "      <td>78.0</td>\n",
       "      <td>122.0</td>\n",
       "    </tr>\n",
       "    <tr>\n",
       "      <th>6-10</th>\n",
       "      <td>185.0</td>\n",
       "      <td>72.048649</td>\n",
       "      <td>19.675156</td>\n",
       "      <td>0.0</td>\n",
       "      <td>68.0</td>\n",
       "      <td>74.0</td>\n",
       "      <td>82.0</td>\n",
       "      <td>110.0</td>\n",
       "    </tr>\n",
       "    <tr>\n",
       "      <th>10+</th>\n",
       "      <td>34.0</td>\n",
       "      <td>74.205882</td>\n",
       "      <td>21.969372</td>\n",
       "      <td>0.0</td>\n",
       "      <td>70.5</td>\n",
       "      <td>76.0</td>\n",
       "      <td>84.0</td>\n",
       "      <td>114.0</td>\n",
       "    </tr>\n",
       "  </tbody>\n",
       "</table>\n",
       "</div>"
      ],
      "text/plain": [
       "                   count       mean        std  min   25%   50%   75%    max\n",
       "pregnant_category                                                           \n",
       "0-5                549.0  67.797814  18.949248  0.0  62.0  70.0  78.0  122.0\n",
       "6-10               185.0  72.048649  19.675156  0.0  68.0  74.0  82.0  110.0\n",
       "10+                 34.0  74.205882  21.969372  0.0  70.5  76.0  84.0  114.0"
      ]
     },
     "execution_count": 54,
     "metadata": {},
     "output_type": "execute_result"
    }
   ],
   "source": [
    "stat_b = data.groupby(\"pregnant_category\")[\"pressure\"].describe()\n",
    "stat_b"
   ]
  },
  {
   "cell_type": "code",
   "execution_count": 55,
   "id": "2ba487ee",
   "metadata": {},
   "outputs": [
    {
     "data": {
      "text/html": [
       "<div>\n",
       "<style scoped>\n",
       "    .dataframe tbody tr th:only-of-type {\n",
       "        vertical-align: middle;\n",
       "    }\n",
       "\n",
       "    .dataframe tbody tr th {\n",
       "        vertical-align: top;\n",
       "    }\n",
       "\n",
       "    .dataframe thead th {\n",
       "        text-align: right;\n",
       "    }\n",
       "</style>\n",
       "<table border=\"1\" class=\"dataframe\">\n",
       "  <thead>\n",
       "    <tr style=\"text-align: right;\">\n",
       "      <th></th>\n",
       "      <th>count</th>\n",
       "      <th>mean</th>\n",
       "      <th>std</th>\n",
       "      <th>min</th>\n",
       "      <th>25%</th>\n",
       "      <th>50%</th>\n",
       "      <th>75%</th>\n",
       "      <th>max</th>\n",
       "    </tr>\n",
       "    <tr>\n",
       "      <th>pregnant_category</th>\n",
       "      <th></th>\n",
       "      <th></th>\n",
       "      <th></th>\n",
       "      <th></th>\n",
       "      <th></th>\n",
       "      <th></th>\n",
       "      <th></th>\n",
       "      <th></th>\n",
       "    </tr>\n",
       "  </thead>\n",
       "  <tbody>\n",
       "    <tr>\n",
       "      <th>0-5</th>\n",
       "      <td>549.0</td>\n",
       "      <td>21.080146</td>\n",
       "      <td>15.596443</td>\n",
       "      <td>0.0</td>\n",
       "      <td>0.0</td>\n",
       "      <td>23.0</td>\n",
       "      <td>32.0</td>\n",
       "      <td>99.0</td>\n",
       "    </tr>\n",
       "    <tr>\n",
       "      <th>6-10</th>\n",
       "      <td>185.0</td>\n",
       "      <td>18.459459</td>\n",
       "      <td>16.656365</td>\n",
       "      <td>0.0</td>\n",
       "      <td>0.0</td>\n",
       "      <td>23.0</td>\n",
       "      <td>33.0</td>\n",
       "      <td>49.0</td>\n",
       "    </tr>\n",
       "    <tr>\n",
       "      <th>10+</th>\n",
       "      <td>34.0</td>\n",
       "      <td>23.058824</td>\n",
       "      <td>17.105628</td>\n",
       "      <td>0.0</td>\n",
       "      <td>0.0</td>\n",
       "      <td>30.0</td>\n",
       "      <td>36.5</td>\n",
       "      <td>54.0</td>\n",
       "    </tr>\n",
       "  </tbody>\n",
       "</table>\n",
       "</div>"
      ],
      "text/plain": [
       "                   count       mean        std  min  25%   50%   75%   max\n",
       "pregnant_category                                                         \n",
       "0-5                549.0  21.080146  15.596443  0.0  0.0  23.0  32.0  99.0\n",
       "6-10               185.0  18.459459  16.656365  0.0  0.0  23.0  33.0  49.0\n",
       "10+                 34.0  23.058824  17.105628  0.0  0.0  30.0  36.5  54.0"
      ]
     },
     "execution_count": 55,
     "metadata": {},
     "output_type": "execute_result"
    }
   ],
   "source": [
    "stat_c = data.groupby(\"pregnant_category\")[\"triceps\"].describe()\n",
    "stat_c"
   ]
  },
  {
   "cell_type": "code",
   "execution_count": 56,
   "id": "a323a862",
   "metadata": {},
   "outputs": [
    {
     "data": {
      "text/html": [
       "<div>\n",
       "<style scoped>\n",
       "    .dataframe tbody tr th:only-of-type {\n",
       "        vertical-align: middle;\n",
       "    }\n",
       "\n",
       "    .dataframe tbody tr th {\n",
       "        vertical-align: top;\n",
       "    }\n",
       "\n",
       "    .dataframe thead th {\n",
       "        text-align: right;\n",
       "    }\n",
       "</style>\n",
       "<table border=\"1\" class=\"dataframe\">\n",
       "  <thead>\n",
       "    <tr style=\"text-align: right;\">\n",
       "      <th></th>\n",
       "      <th>count</th>\n",
       "      <th>mean</th>\n",
       "      <th>std</th>\n",
       "      <th>min</th>\n",
       "      <th>25%</th>\n",
       "      <th>50%</th>\n",
       "      <th>75%</th>\n",
       "      <th>max</th>\n",
       "    </tr>\n",
       "    <tr>\n",
       "      <th>pregnant_category</th>\n",
       "      <th></th>\n",
       "      <th></th>\n",
       "      <th></th>\n",
       "      <th></th>\n",
       "      <th></th>\n",
       "      <th></th>\n",
       "      <th></th>\n",
       "      <th></th>\n",
       "    </tr>\n",
       "  </thead>\n",
       "  <tbody>\n",
       "    <tr>\n",
       "      <th>0-5</th>\n",
       "      <td>549.0</td>\n",
       "      <td>83.380692</td>\n",
       "      <td>116.181172</td>\n",
       "      <td>0.0</td>\n",
       "      <td>0.0</td>\n",
       "      <td>50.0</td>\n",
       "      <td>127.0</td>\n",
       "      <td>846.0</td>\n",
       "    </tr>\n",
       "    <tr>\n",
       "      <th>6-10</th>\n",
       "      <td>185.0</td>\n",
       "      <td>70.756757</td>\n",
       "      <td>116.148800</td>\n",
       "      <td>0.0</td>\n",
       "      <td>0.0</td>\n",
       "      <td>0.0</td>\n",
       "      <td>126.0</td>\n",
       "      <td>600.0</td>\n",
       "    </tr>\n",
       "    <tr>\n",
       "      <th>10+</th>\n",
       "      <td>34.0</td>\n",
       "      <td>71.176471</td>\n",
       "      <td>92.567574</td>\n",
       "      <td>0.0</td>\n",
       "      <td>0.0</td>\n",
       "      <td>0.0</td>\n",
       "      <td>137.5</td>\n",
       "      <td>325.0</td>\n",
       "    </tr>\n",
       "  </tbody>\n",
       "</table>\n",
       "</div>"
      ],
      "text/plain": [
       "                   count       mean         std  min  25%   50%    75%    max\n",
       "pregnant_category                                                            \n",
       "0-5                549.0  83.380692  116.181172  0.0  0.0  50.0  127.0  846.0\n",
       "6-10               185.0  70.756757  116.148800  0.0  0.0   0.0  126.0  600.0\n",
       "10+                 34.0  71.176471   92.567574  0.0  0.0   0.0  137.5  325.0"
      ]
     },
     "execution_count": 56,
     "metadata": {},
     "output_type": "execute_result"
    }
   ],
   "source": [
    "stat_d = data.groupby(\"pregnant_category\")[\"insulin\"].describe()\n",
    "stat_d"
   ]
  },
  {
   "cell_type": "code",
   "execution_count": 57,
   "id": "69fdfb66",
   "metadata": {},
   "outputs": [
    {
     "data": {
      "text/html": [
       "<div>\n",
       "<style scoped>\n",
       "    .dataframe tbody tr th:only-of-type {\n",
       "        vertical-align: middle;\n",
       "    }\n",
       "\n",
       "    .dataframe tbody tr th {\n",
       "        vertical-align: top;\n",
       "    }\n",
       "\n",
       "    .dataframe thead th {\n",
       "        text-align: right;\n",
       "    }\n",
       "</style>\n",
       "<table border=\"1\" class=\"dataframe\">\n",
       "  <thead>\n",
       "    <tr style=\"text-align: right;\">\n",
       "      <th></th>\n",
       "      <th>count</th>\n",
       "      <th>mean</th>\n",
       "      <th>std</th>\n",
       "      <th>min</th>\n",
       "      <th>25%</th>\n",
       "      <th>50%</th>\n",
       "      <th>75%</th>\n",
       "      <th>max</th>\n",
       "    </tr>\n",
       "    <tr>\n",
       "      <th>pregnant_category</th>\n",
       "      <th></th>\n",
       "      <th></th>\n",
       "      <th></th>\n",
       "      <th></th>\n",
       "      <th></th>\n",
       "      <th></th>\n",
       "      <th></th>\n",
       "      <th></th>\n",
       "    </tr>\n",
       "  </thead>\n",
       "  <tbody>\n",
       "    <tr>\n",
       "      <th>0-5</th>\n",
       "      <td>549.0</td>\n",
       "      <td>31.969217</td>\n",
       "      <td>8.024337</td>\n",
       "      <td>0.0</td>\n",
       "      <td>27.000</td>\n",
       "      <td>32.00</td>\n",
       "      <td>36.600</td>\n",
       "      <td>67.1</td>\n",
       "    </tr>\n",
       "    <tr>\n",
       "      <th>6-10</th>\n",
       "      <td>185.0</td>\n",
       "      <td>31.382162</td>\n",
       "      <td>7.483508</td>\n",
       "      <td>0.0</td>\n",
       "      <td>27.400</td>\n",
       "      <td>32.00</td>\n",
       "      <td>35.500</td>\n",
       "      <td>50.0</td>\n",
       "    </tr>\n",
       "    <tr>\n",
       "      <th>10+</th>\n",
       "      <td>34.0</td>\n",
       "      <td>35.691176</td>\n",
       "      <td>6.858146</td>\n",
       "      <td>22.2</td>\n",
       "      <td>30.375</td>\n",
       "      <td>36.35</td>\n",
       "      <td>40.425</td>\n",
       "      <td>52.3</td>\n",
       "    </tr>\n",
       "  </tbody>\n",
       "</table>\n",
       "</div>"
      ],
      "text/plain": [
       "                   count       mean       std   min     25%    50%     75%  \\\n",
       "pregnant_category                                                            \n",
       "0-5                549.0  31.969217  8.024337   0.0  27.000  32.00  36.600   \n",
       "6-10               185.0  31.382162  7.483508   0.0  27.400  32.00  35.500   \n",
       "10+                 34.0  35.691176  6.858146  22.2  30.375  36.35  40.425   \n",
       "\n",
       "                    max  \n",
       "pregnant_category        \n",
       "0-5                67.1  \n",
       "6-10               50.0  \n",
       "10+                52.3  "
      ]
     },
     "execution_count": 57,
     "metadata": {},
     "output_type": "execute_result"
    }
   ],
   "source": [
    "stat_e = data.groupby(\"pregnant_category\")[\"mass\"].describe()\n",
    "stat_e"
   ]
  },
  {
   "cell_type": "code",
   "execution_count": 58,
   "id": "5d709a5e",
   "metadata": {},
   "outputs": [
    {
     "data": {
      "text/html": [
       "<div>\n",
       "<style scoped>\n",
       "    .dataframe tbody tr th:only-of-type {\n",
       "        vertical-align: middle;\n",
       "    }\n",
       "\n",
       "    .dataframe tbody tr th {\n",
       "        vertical-align: top;\n",
       "    }\n",
       "\n",
       "    .dataframe thead th {\n",
       "        text-align: right;\n",
       "    }\n",
       "</style>\n",
       "<table border=\"1\" class=\"dataframe\">\n",
       "  <thead>\n",
       "    <tr style=\"text-align: right;\">\n",
       "      <th></th>\n",
       "      <th>count</th>\n",
       "      <th>mean</th>\n",
       "      <th>std</th>\n",
       "      <th>min</th>\n",
       "      <th>25%</th>\n",
       "      <th>50%</th>\n",
       "      <th>75%</th>\n",
       "      <th>max</th>\n",
       "    </tr>\n",
       "    <tr>\n",
       "      <th>pregnant_category</th>\n",
       "      <th></th>\n",
       "      <th></th>\n",
       "      <th></th>\n",
       "      <th></th>\n",
       "      <th></th>\n",
       "      <th></th>\n",
       "      <th></th>\n",
       "      <th></th>\n",
       "    </tr>\n",
       "  </thead>\n",
       "  <tbody>\n",
       "    <tr>\n",
       "      <th>0-5</th>\n",
       "      <td>549.0</td>\n",
       "      <td>0.472659</td>\n",
       "      <td>0.341328</td>\n",
       "      <td>0.078</td>\n",
       "      <td>0.2440</td>\n",
       "      <td>0.368</td>\n",
       "      <td>0.60500</td>\n",
       "      <td>2.420</td>\n",
       "    </tr>\n",
       "    <tr>\n",
       "      <th>6-10</th>\n",
       "      <td>185.0</td>\n",
       "      <td>0.469930</td>\n",
       "      <td>0.305826</td>\n",
       "      <td>0.084</td>\n",
       "      <td>0.2380</td>\n",
       "      <td>0.382</td>\n",
       "      <td>0.67200</td>\n",
       "      <td>1.476</td>\n",
       "    </tr>\n",
       "    <tr>\n",
       "      <th>10+</th>\n",
       "      <td>34.0</td>\n",
       "      <td>0.469824</td>\n",
       "      <td>0.308713</td>\n",
       "      <td>0.126</td>\n",
       "      <td>0.2465</td>\n",
       "      <td>0.395</td>\n",
       "      <td>0.58175</td>\n",
       "      <td>1.353</td>\n",
       "    </tr>\n",
       "  </tbody>\n",
       "</table>\n",
       "</div>"
      ],
      "text/plain": [
       "                   count      mean       std    min     25%    50%      75%  \\\n",
       "pregnant_category                                                             \n",
       "0-5                549.0  0.472659  0.341328  0.078  0.2440  0.368  0.60500   \n",
       "6-10               185.0  0.469930  0.305826  0.084  0.2380  0.382  0.67200   \n",
       "10+                 34.0  0.469824  0.308713  0.126  0.2465  0.395  0.58175   \n",
       "\n",
       "                     max  \n",
       "pregnant_category         \n",
       "0-5                2.420  \n",
       "6-10               1.476  \n",
       "10+                1.353  "
      ]
     },
     "execution_count": 58,
     "metadata": {},
     "output_type": "execute_result"
    }
   ],
   "source": [
    "stat_f = data.groupby(\"pregnant_category\")[\"pedigree\"].describe()\n",
    "stat_f"
   ]
  },
  {
   "cell_type": "code",
   "execution_count": null,
   "id": "8058b159",
   "metadata": {},
   "outputs": [],
   "source": []
  },
  {
   "cell_type": "code",
   "execution_count": null,
   "id": "844439a8",
   "metadata": {},
   "outputs": [],
   "source": []
  }
 ],
 "metadata": {
  "kernelspec": {
   "display_name": "Python 3",
   "language": "python",
   "name": "python3"
  },
  "language_info": {
   "codemirror_mode": {
    "name": "ipython",
    "version": 3
   },
   "file_extension": ".py",
   "mimetype": "text/x-python",
   "name": "python",
   "nbconvert_exporter": "python",
   "pygments_lexer": "ipython3",
   "version": "3.8.8"
  }
 },
 "nbformat": 4,
 "nbformat_minor": 5
}
